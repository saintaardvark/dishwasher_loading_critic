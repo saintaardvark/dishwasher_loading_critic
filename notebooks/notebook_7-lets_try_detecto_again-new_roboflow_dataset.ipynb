{
 "cells": [
  {
   "cell_type": "markdown",
   "metadata": {
    "gradient": {
     "editing": false
    }
   },
   "source": [
    "# Notebook #7: Let's try detecto again...again\n",
    "\n",
    "So...here we are.  As a reminder to myself, what I'm trying to do at this point is:\n",
    "\n",
    "1. get a model trained...\n",
    "1. ...using augmented data...\n",
    "1. ...actually make a prediction with it...\n",
    "1. ...and save the model for further use.\n",
    "\n",
    "In this notebook:\n",
    "\n",
    "- I'll be using Detecto for training, etc as my wrapper of choice;\n",
    "- I'll be using the Roboflow images for augmented data.\n",
    "\n",
    "In future notebooks I'll explore the use of Pytorch Lighting Flash as the wrapper, and Albumentations (and possibly imgaug) for augmented data.\n",
    "\n",
    "To start with, let's prepare for using this notebook either on a local computer, or in Colab:"
   ]
  },
  {
   "cell_type": "markdown",
   "metadata": {
    "gradient": {
     "editing": false
    }
   },
   "source": [
    "# First diversion: getting this working on Paperspace\n",
    "\n",
    "I ran into issues here when running on Paperspace.  First off, detecto depends on cv2, and cv2 depends on libgl.so.1.  Importing detecto _without_ that library gives `ImportError: libGL.so.1: cannot open shared object file: No such file or directory`.  So, following [the advice here](https://stackoverflow.com/questions/55313610/importerror-libgl-so-1-cannot-open-shared-object-file-no-such-file-or-directo), I installed libgl-mesa-glx (these notebooks are running on Ubuntu containers):"
   ]
  },
  {
   "cell_type": "code",
   "execution_count": 1,
   "metadata": {
    "gradient": {}
   },
   "outputs": [
    {
     "name": "stdout",
     "output_type": "stream",
     "text": [
      "Get:1 http://security.ubuntu.com/ubuntu focal-security InRelease [109 kB]\n",
      "Hit:2 http://archive.ubuntu.com/ubuntu focal InRelease                         \n",
      "Get:3 http://archive.ubuntu.com/ubuntu focal-updates InRelease [114 kB]\n",
      "Get:4 http://archive.ubuntu.com/ubuntu focal-backports InRelease [101 kB]\n",
      "Fetched 324 kB in 1s (499 kB/s)  \n",
      "Reading package lists... Done\n",
      "Reading package lists... Done\n",
      "Building dependency tree       \n",
      "Reading state information... Done\n",
      "libgl1-mesa-glx is already the newest version (20.2.6-0ubuntu0.20.04.1).\n",
      "0 upgraded, 0 newly installed, 0 to remove and 50 not upgraded.\n"
     ]
    }
   ],
   "source": [
    "!apt-get update && apt-get install -y libgl1-mesa-glx"
   ]
  },
  {
   "cell_type": "markdown",
   "metadata": {
    "gradient": {
     "editing": false
    }
   },
   "source": [
    "Next, we need to install detecto:"
   ]
  },
  {
   "cell_type": "code",
   "execution_count": 2,
   "metadata": {
    "gradient": {}
   },
   "outputs": [
    {
     "name": "stdout",
     "output_type": "stream",
     "text": [
      "Requirement already satisfied: detecto in /opt/conda/lib/python3.8/site-packages (1.2.1)\n",
      "Requirement already satisfied: matplotlib in /opt/conda/lib/python3.8/site-packages (from detecto) (3.3.4)\n",
      "Requirement already satisfied: tqdm in /opt/conda/lib/python3.8/site-packages (from detecto) (4.53.0)\n",
      "Requirement already satisfied: opencv-python in /opt/conda/lib/python3.8/site-packages (from detecto) (4.4.0.46)\n",
      "Requirement already satisfied: torchvision in /opt/conda/lib/python3.8/site-packages (from detecto) (0.9.0a0)\n",
      "Requirement already satisfied: pandas in /opt/conda/lib/python3.8/site-packages (from detecto) (1.1.4)\n",
      "Requirement already satisfied: torch in /opt/conda/lib/python3.8/site-packages (from detecto) (1.8.0a0+52ea372)\n",
      "Requirement already satisfied: python-dateutil>=2.1 in /opt/conda/lib/python3.8/site-packages (from matplotlib->detecto) (2.8.1)\n",
      "Requirement already satisfied: cycler>=0.10 in /opt/conda/lib/python3.8/site-packages (from matplotlib->detecto) (0.10.0)\n",
      "Requirement already satisfied: kiwisolver>=1.0.1 in /opt/conda/lib/python3.8/site-packages (from matplotlib->detecto) (1.3.1)\n",
      "Requirement already satisfied: numpy>=1.15 in /opt/conda/lib/python3.8/site-packages (from matplotlib->detecto) (1.19.2)\n",
      "Requirement already satisfied: pillow>=6.2.0 in /opt/conda/lib/python3.8/site-packages (from matplotlib->detecto) (8.1.2)\n",
      "Requirement already satisfied: pyparsing!=2.0.4,!=2.1.2,!=2.1.6,>=2.0.3 in /opt/conda/lib/python3.8/site-packages (from matplotlib->detecto) (2.4.7)\n",
      "Requirement already satisfied: pytz>=2017.2 in /opt/conda/lib/python3.8/site-packages (from pandas->detecto) (2021.1)\n",
      "Requirement already satisfied: typing-extensions in /opt/conda/lib/python3.8/site-packages (from torch->detecto) (3.7.4.3)\n",
      "Requirement already satisfied: six>=1.5 in /opt/conda/lib/python3.8/site-packages (from python-dateutil>=2.1->matplotlib->detecto) (1.15.0)\n"
     ]
    }
   ],
   "source": [
    "!pip install detecto"
   ]
  },
  {
   "cell_type": "markdown",
   "metadata": {
    "gradient": {
     "editing": false
    }
   },
   "source": [
    "Next, we need to download our dataset:"
   ]
  },
  {
   "cell_type": "code",
   "execution_count": 3,
   "metadata": {
    "gradient": {}
   },
   "outputs": [],
   "source": [
    "!rm -rf test train valid README.roboflow.txt"
   ]
  },
  {
   "cell_type": "code",
   "execution_count": 9,
   "metadata": {
    "collapsed": true,
    "gradient": {},
    "jupyter": {
     "outputs_hidden": true
    }
   },
   "outputs": [
    {
     "name": "stdout",
     "output_type": "stream",
     "text": [
      "  % Total    % Received % Xferd  Average Speed   Time    Time     Time  Current\n",
      "                                 Dload  Upload   Total   Spent    Left  Speed\n",
      "100   886  100   886    0     0   1263      0 --:--:-- --:--:-- --:--:--  1262\n",
      "100 17.3M  100 17.3M    0     0  12.5M      0  0:00:01  0:00:01 --:--:-- 54.4M\n",
      "Archive:  roboflow.zip\n",
      " extracting: README.roboflow.txt     \n",
      "   creating: test/\n",
      " extracting: test/20-09-09-06-51-19-9754_jpg.rf.e60419bcdc9ed39569ebd7cc67df49cf.jpg  \n",
      " extracting: test/20-09-09-06-51-19-9754_jpg.rf.e60419bcdc9ed39569ebd7cc67df49cf.xml  \n",
      " extracting: test/20-11-30-06-46-08-0275_jpg.rf.adf2988ed6e6b2b0b8c59e6dc2e4565a.jpg  \n",
      " extracting: test/20-11-30-06-46-08-0275_jpg.rf.adf2988ed6e6b2b0b8c59e6dc2e4565a.xml  \n",
      " extracting: test/20-11-30-07-38-01-0278_jpg.rf.1ec13129ff0ab0851d9c8091bb1c69c4.jpg  \n",
      " extracting: test/20-11-30-07-38-01-0278_jpg.rf.1ec13129ff0ab0851d9c8091bb1c69c4.xml  \n",
      " extracting: test/20-12-20-12-44-35-0357_jpg.rf.bb8edf932117c95bf2fea4efeefb83d8.jpg  \n",
      " extracting: test/20-12-20-12-44-35-0357_jpg.rf.bb8edf932117c95bf2fea4efeefb83d8.xml  \n",
      " extracting: test/20-12-22-07-24-10-0363_jpg.rf.46854af46064f9ab9ce7de0806403e99.jpg  \n",
      " extracting: test/20-12-22-07-24-10-0363_jpg.rf.46854af46064f9ab9ce7de0806403e99.xml  \n",
      " extracting: test/21-03-25-18-48-35-0721_jpg.rf.de5a296d161b7f4848a5c15e61bb17ea.jpg  \n",
      " extracting: test/21-03-25-18-48-35-0721_jpg.rf.de5a296d161b7f4848a5c15e61bb17ea.xml  \n",
      " extracting: test/21-03-26-12-22-26-0737_jpg.rf.fcb9e594be7e16f6d7e87edc0a91935f.jpg  \n",
      " extracting: test/21-03-26-12-22-26-0737_jpg.rf.fcb9e594be7e16f6d7e87edc0a91935f.xml  \n",
      " extracting: test/21-03-26-12-22-40-0740_jpg.rf.b8e06be4021a69f49055d79a1860845c.jpg  \n",
      " extracting: test/21-03-26-12-22-40-0740_jpg.rf.b8e06be4021a69f49055d79a1860845c.xml  \n",
      " extracting: test/21-03-26-12-25-57-0755_jpg.rf.c0b28f4fd73c7b50652d3eff4bdd6613.jpg  \n",
      " extracting: test/21-03-26-12-25-57-0755_jpg.rf.c0b28f4fd73c7b50652d3eff4bdd6613.xml  \n",
      " extracting: test/21-03-27-09-03-44-0769_jpg.rf.5f98309b40f02bdfe85d25c2e5955f3c.jpg  \n",
      " extracting: test/21-03-27-09-03-44-0769_jpg.rf.5f98309b40f02bdfe85d25c2e5955f3c.xml  \n",
      " extracting: test/21-03-27-09-03-50-0771_jpg.rf.d0ffb31fb0116e697be6266656585ee1.jpg  \n",
      " extracting: test/21-03-27-09-03-50-0771_jpg.rf.d0ffb31fb0116e697be6266656585ee1.xml  \n",
      " extracting: test/21-03-29-18-41-11-0805_jpg.rf.e982197486b2a83c23c0d9563555a4d8.jpg  \n",
      " extracting: test/21-03-29-18-41-11-0805_jpg.rf.e982197486b2a83c23c0d9563555a4d8.xml  \n",
      " extracting: test/21-03-30-16-37-19-0810_jpg.rf.3fb9318c481020da18d56fcdef44780b.jpg  \n",
      " extracting: test/21-03-30-16-37-19-0810_jpg.rf.3fb9318c481020da18d56fcdef44780b.xml  \n",
      "   creating: train/\n",
      " extracting: train/20-09-07-13-09-17-9705_jpg.rf.0ca673176882c5d8a25fb361281b0215.jpg  \n",
      " extracting: train/20-09-07-13-09-17-9705_jpg.rf.0ca673176882c5d8a25fb361281b0215.xml  \n",
      " extracting: train/20-09-07-13-09-17-9705_jpg.rf.22addd62eb86a997dff274825a7e3cb4.jpg  \n",
      " extracting: train/20-09-07-13-09-17-9705_jpg.rf.22addd62eb86a997dff274825a7e3cb4.xml  \n",
      " extracting: train/20-09-07-13-09-17-9705_jpg.rf.99c0bbf848b79df77764e6071b1a2548.jpg  \n",
      " extracting: train/20-09-07-13-09-17-9705_jpg.rf.99c0bbf848b79df77764e6071b1a2548.xml  \n",
      " extracting: train/20-09-07-13-09-55-9709_jpg.rf.40fdcfeafcd5fd4e6070ded29d7ada70.jpg  \n",
      " extracting: train/20-09-07-13-09-55-9709_jpg.rf.40fdcfeafcd5fd4e6070ded29d7ada70.xml  \n",
      " extracting: train/20-09-07-13-09-55-9709_jpg.rf.85f3fc06f0a2f8a03d3a3719f2abc503.jpg  \n",
      " extracting: train/20-09-07-13-09-55-9709_jpg.rf.85f3fc06f0a2f8a03d3a3719f2abc503.xml  \n",
      " extracting: train/20-09-07-13-09-55-9709_jpg.rf.fe60bf2a62ac89ba6412a7d327ddb243.jpg  \n",
      " extracting: train/20-09-07-13-09-55-9709_jpg.rf.fe60bf2a62ac89ba6412a7d327ddb243.xml  \n",
      " extracting: train/20-09-07-13-10-13-9710_jpg.rf.0fe05f096db4edbbf8c2f7d5a390e9b4.jpg  \n",
      " extracting: train/20-09-07-13-10-13-9710_jpg.rf.0fe05f096db4edbbf8c2f7d5a390e9b4.xml  \n",
      " extracting: train/20-09-07-13-10-13-9710_jpg.rf.3793c8685e95546b6721e5a01de8ae4e.jpg  \n",
      " extracting: train/20-09-07-13-10-13-9710_jpg.rf.3793c8685e95546b6721e5a01de8ae4e.xml  \n",
      " extracting: train/20-09-07-13-10-13-9710_jpg.rf.3aaedf15a5780e9a66c41a611ec577aa.jpg  \n",
      " extracting: train/20-09-07-13-10-13-9710_jpg.rf.3aaedf15a5780e9a66c41a611ec577aa.xml  \n",
      " extracting: train/20-09-07-16-28-45-9712_jpg.rf.365fd049f8de0ee59336bc418c188dd7.jpg  \n",
      " extracting: train/20-09-07-16-28-45-9712_jpg.rf.365fd049f8de0ee59336bc418c188dd7.xml  \n",
      " extracting: train/20-09-07-16-28-45-9712_jpg.rf.7898844e6912a608a04a689add77019d.jpg  \n",
      " extracting: train/20-09-07-16-28-45-9712_jpg.rf.7898844e6912a608a04a689add77019d.xml  \n",
      " extracting: train/20-09-07-16-28-45-9712_jpg.rf.8787adac92c62d5f637a0f45780127d7.jpg  \n",
      " extracting: train/20-09-07-16-28-45-9712_jpg.rf.8787adac92c62d5f637a0f45780127d7.xml  \n",
      " extracting: train/20-09-07-16-29-13-9717_jpg.rf.8d599a0d92e5cac0a7d9bb5965c3f9e4.jpg  \n",
      " extracting: train/20-09-07-16-29-13-9717_jpg.rf.8d599a0d92e5cac0a7d9bb5965c3f9e4.xml  \n",
      " extracting: train/20-09-07-16-29-13-9717_jpg.rf.8eac0df7fd59620ed3d7c17c85df31a6.jpg  \n",
      " extracting: train/20-09-07-16-29-13-9717_jpg.rf.8eac0df7fd59620ed3d7c17c85df31a6.xml  \n",
      " extracting: train/20-09-07-16-29-13-9717_jpg.rf.c0d9b40e5015f732147b35931fc8da73.jpg  \n",
      " extracting: train/20-09-07-16-29-13-9717_jpg.rf.c0d9b40e5015f732147b35931fc8da73.xml  \n",
      " extracting: train/20-09-08-18-40-06-9748_jpg.rf.32257668564f4cc302193c9c7bfa1556.jpg  \n",
      " extracting: train/20-09-08-18-40-06-9748_jpg.rf.32257668564f4cc302193c9c7bfa1556.xml  \n",
      " extracting: train/20-09-08-18-40-06-9748_jpg.rf.3f1990871ac41c76ffa970f5f9f1e10c.jpg  \n",
      " extracting: train/20-09-08-18-40-06-9748_jpg.rf.3f1990871ac41c76ffa970f5f9f1e10c.xml  \n",
      " extracting: train/20-09-08-18-40-06-9748_jpg.rf.9f427c28f5e0fb5cf87f6bdaab6fba5b.jpg  \n",
      " extracting: train/20-09-08-18-40-06-9748_jpg.rf.9f427c28f5e0fb5cf87f6bdaab6fba5b.xml  \n",
      " extracting: train/20-09-09-18-33-51-9757_jpg.rf.3350b196389063e695fc12b26eade3c6.jpg  \n",
      " extracting: train/20-09-09-18-33-51-9757_jpg.rf.3350b196389063e695fc12b26eade3c6.xml  \n",
      " extracting: train/20-09-09-18-33-51-9757_jpg.rf.8d09c15fe023efa1ae8604221e1266df.jpg  \n",
      " extracting: train/20-09-09-18-33-51-9757_jpg.rf.8d09c15fe023efa1ae8604221e1266df.xml  \n",
      " extracting: train/20-09-09-18-33-51-9757_jpg.rf.f266c376681e06f56819d9da38bbb6f8.jpg  \n",
      " extracting: train/20-09-09-18-33-51-9757_jpg.rf.f266c376681e06f56819d9da38bbb6f8.xml  \n",
      " extracting: train/20-09-11-18-25-06-9773_jpg.rf.2f8fc36fe961cbe251009ddda55b9c27.jpg  \n",
      " extracting: train/20-09-11-18-25-06-9773_jpg.rf.2f8fc36fe961cbe251009ddda55b9c27.xml  \n",
      " extracting: train/20-09-11-18-25-06-9773_jpg.rf.9c5c46523f1e4f2d8c5ebf7e9665175b.jpg  \n",
      " extracting: train/20-09-11-18-25-06-9773_jpg.rf.9c5c46523f1e4f2d8c5ebf7e9665175b.xml  \n",
      " extracting: train/20-09-11-18-25-06-9773_jpg.rf.d3c98d7681f488997ddb854ac5641875.jpg  \n",
      " extracting: train/20-09-11-18-25-06-9773_jpg.rf.d3c98d7681f488997ddb854ac5641875.xml  \n",
      " extracting: train/20-09-11-21-49-32-9776_jpg.rf.7c5902db9a6d9a62730a3c6f93329aa6.jpg  \n",
      " extracting: train/20-09-11-21-49-32-9776_jpg.rf.7c5902db9a6d9a62730a3c6f93329aa6.xml  \n",
      " extracting: train/20-09-11-21-49-32-9776_jpg.rf.a06333c709dc254a4e56da73d6ec4faf.jpg  \n",
      " extracting: train/20-09-11-21-49-32-9776_jpg.rf.a06333c709dc254a4e56da73d6ec4faf.xml  \n",
      " extracting: train/20-09-11-21-49-32-9776_jpg.rf.d9b2d3326f5122cf660bc608dbf287bb.jpg  \n",
      " extracting: train/20-09-11-21-49-32-9776_jpg.rf.d9b2d3326f5122cf660bc608dbf287bb.xml  \n",
      " extracting: train/20-11-30-06-46-08-0275_jpg.rf.49c88e450f5e8266b0a7ea28af2fa617.jpg  \n",
      " extracting: train/20-11-30-06-46-08-0275_jpg.rf.49c88e450f5e8266b0a7ea28af2fa617.xml  \n",
      " extracting: train/20-11-30-06-46-08-0275_jpg.rf.adbc27fc5bcc41c0af3919b62030d60e.jpg  \n",
      " extracting: train/20-11-30-06-46-08-0275_jpg.rf.adbc27fc5bcc41c0af3919b62030d60e.xml  \n",
      " extracting: train/20-11-30-06-46-08-0275_jpg.rf.efa6a7863b061668e89a2bc412665bd1.jpg  \n",
      " extracting: train/20-11-30-06-46-08-0275_jpg.rf.efa6a7863b061668e89a2bc412665bd1.xml  \n",
      " extracting: train/20-12-19-07-39-50-0351_jpg.rf.5530f90975987ba8d5155fea5765f928.jpg  \n",
      " extracting: train/20-12-19-07-39-50-0351_jpg.rf.5530f90975987ba8d5155fea5765f928.xml  \n",
      " extracting: train/20-12-19-07-39-50-0351_jpg.rf.967ca45305222ddba38053955da5bf9f.jpg  \n",
      " extracting: train/20-12-19-07-39-50-0351_jpg.rf.967ca45305222ddba38053955da5bf9f.xml  \n",
      " extracting: train/20-12-19-07-39-50-0351_jpg.rf.ab8130d3e819eab39d910df03fc633db.jpg  \n",
      " extracting: train/20-12-19-07-39-50-0351_jpg.rf.ab8130d3e819eab39d910df03fc633db.xml  \n",
      " extracting: train/20-12-20-12-44-22-0353_jpg.rf.20e9d1c44d4b8c6101178d92396b939f.jpg  \n",
      " extracting: train/20-12-20-12-44-22-0353_jpg.rf.20e9d1c44d4b8c6101178d92396b939f.xml  \n",
      " extracting: train/20-12-20-12-44-22-0353_jpg.rf.c0178e0b1a165ccbe4c1b9d51b7d9d17.jpg  \n",
      " extracting: train/20-12-20-12-44-22-0353_jpg.rf.c0178e0b1a165ccbe4c1b9d51b7d9d17.xml  \n",
      " extracting: train/20-12-20-12-44-22-0353_jpg.rf.c6f9c7b6105234794e45039e2284e1fd.jpg  \n",
      " extracting: train/20-12-20-12-44-22-0353_jpg.rf.c6f9c7b6105234794e45039e2284e1fd.xml  \n",
      " extracting: train/20-12-20-12-44-27-0354_jpg.rf.4833687048a5086da7b627c88632ef39.jpg  \n",
      " extracting: train/20-12-20-12-44-27-0354_jpg.rf.4833687048a5086da7b627c88632ef39.xml  \n",
      " extracting: train/20-12-20-12-44-27-0354_jpg.rf.a3eaf1334cf69f0c2d8119308358d414.jpg  \n",
      " extracting: train/20-12-20-12-44-27-0354_jpg.rf.a3eaf1334cf69f0c2d8119308358d414.xml  \n",
      " extracting: train/20-12-20-12-44-27-0354_jpg.rf.dc2acc54084d7910ace144fc04877a26.jpg  \n",
      " extracting: train/20-12-20-12-44-27-0354_jpg.rf.dc2acc54084d7910ace144fc04877a26.xml  \n",
      " extracting: train/20-12-22-07-23-51-0361_jpg.rf.9cb7e7274e1a45d0821f2b96db612769.jpg  \n",
      " extracting: train/20-12-22-07-23-51-0361_jpg.rf.9cb7e7274e1a45d0821f2b96db612769.xml  \n",
      " extracting: train/20-12-22-07-23-51-0361_jpg.rf.bfe0eae8ca149845ce0f98bb8ac8f677.jpg  \n",
      " extracting: train/20-12-22-07-23-51-0361_jpg.rf.bfe0eae8ca149845ce0f98bb8ac8f677.xml  \n",
      " extracting: train/20-12-22-07-23-51-0361_jpg.rf.ef0ae676d5f2be8aba239694a1e6b9b7.jpg  \n",
      " extracting: train/20-12-22-07-23-51-0361_jpg.rf.ef0ae676d5f2be8aba239694a1e6b9b7.xml  \n",
      " extracting: train/20-12-22-07-24-16-0364_jpg.rf.033eec76b1fb2d20244ebc46e9cdfa7c.jpg  \n",
      " extracting: train/20-12-22-07-24-16-0364_jpg.rf.033eec76b1fb2d20244ebc46e9cdfa7c.xml  \n",
      " extracting: train/20-12-22-07-24-16-0364_jpg.rf.49176f3dee96a9dc00774e1b7d3721d7.jpg  \n",
      " extracting: train/20-12-22-07-24-16-0364_jpg.rf.49176f3dee96a9dc00774e1b7d3721d7.xml  \n",
      " extracting: train/20-12-22-07-24-16-0364_jpg.rf.976692e85b4c5ad2f30459bf14574e19.jpg  \n",
      " extracting: train/20-12-22-07-24-16-0364_jpg.rf.976692e85b4c5ad2f30459bf14574e19.xml  \n",
      " extracting: train/20-12-22-07-24-36-0365_jpg.rf.132212a2ac29d03c4375d62ccbe13caa.jpg  \n",
      " extracting: train/20-12-22-07-24-36-0365_jpg.rf.132212a2ac29d03c4375d62ccbe13caa.xml  \n",
      " extracting: train/20-12-22-07-24-36-0365_jpg.rf.17c6c12e0795335227743c1bf4ab4759.jpg  \n",
      " extracting: train/20-12-22-07-24-36-0365_jpg.rf.17c6c12e0795335227743c1bf4ab4759.xml  \n",
      " extracting: train/20-12-22-07-24-36-0365_jpg.rf.ea6de389af2d44c5f755f88eb10aa51a.jpg  \n",
      " extracting: train/20-12-22-07-24-36-0365_jpg.rf.ea6de389af2d44c5f755f88eb10aa51a.xml  \n",
      " extracting: train/20-12-22-07-24-40-0366_jpg.rf.648b1558ca0b1065b5d51bae6afae23a.jpg  \n",
      " extracting: train/20-12-22-07-24-40-0366_jpg.rf.648b1558ca0b1065b5d51bae6afae23a.xml  \n",
      " extracting: train/20-12-22-07-24-40-0366_jpg.rf.d10baaeed4ca3172cc8c3178c8b4cc41.jpg  \n",
      " extracting: train/20-12-22-07-24-40-0366_jpg.rf.d10baaeed4ca3172cc8c3178c8b4cc41.xml  \n",
      " extracting: train/20-12-22-07-24-40-0366_jpg.rf.e92be5e2fb9c088e27ef9c433bb4d338.jpg  \n",
      " extracting: train/20-12-22-07-24-40-0366_jpg.rf.e92be5e2fb9c088e27ef9c433bb4d338.xml  \n",
      " extracting: train/20-12-22-07-24-49-0367_jpg.rf.1b8a4b3f77756b1d10c127c8a8c0faf3.jpg  \n",
      " extracting: train/20-12-22-07-24-49-0367_jpg.rf.1b8a4b3f77756b1d10c127c8a8c0faf3.xml  \n",
      " extracting: train/20-12-22-07-24-49-0367_jpg.rf.8052884c3a84a3c6dcfca80ec9b352e2.jpg  \n",
      " extracting: train/20-12-22-07-24-49-0367_jpg.rf.8052884c3a84a3c6dcfca80ec9b352e2.xml  \n",
      " extracting: train/20-12-22-07-24-49-0367_jpg.rf.8fb0e1bcf4973b9e323bfee4130ba8ce.jpg  \n",
      " extracting: train/20-12-22-07-24-49-0367_jpg.rf.8fb0e1bcf4973b9e323bfee4130ba8ce.xml  \n",
      " extracting: train/20-12-22-07-25-01-0368_jpg.rf.02b9f05a177e72d7b7594d4653024172.jpg  \n",
      " extracting: train/20-12-22-07-25-01-0368_jpg.rf.02b9f05a177e72d7b7594d4653024172.xml  \n",
      " extracting: train/20-12-22-07-25-01-0368_jpg.rf.2a5559196185c290b73f92b967996425.jpg  \n",
      " extracting: train/20-12-22-07-25-01-0368_jpg.rf.2a5559196185c290b73f92b967996425.xml  \n",
      " extracting: train/20-12-22-07-25-01-0368_jpg.rf.4246ef7ef867923268f5f4b53996bfa8.jpg  \n",
      " extracting: train/20-12-22-07-25-01-0368_jpg.rf.4246ef7ef867923268f5f4b53996bfa8.xml  \n",
      " extracting: train/20-12-22-07-25-32-0371_jpg.rf.081416a46ea7080e9ac7603f2513f004.jpg  \n",
      " extracting: train/20-12-22-07-25-32-0371_jpg.rf.081416a46ea7080e9ac7603f2513f004.xml  \n",
      " extracting: train/20-12-22-07-25-32-0371_jpg.rf.2dee9f45054c33557e372761fdee117c.jpg  \n",
      " extracting: train/20-12-22-07-25-32-0371_jpg.rf.2dee9f45054c33557e372761fdee117c.xml  \n",
      " extracting: train/20-12-22-07-25-32-0371_jpg.rf.f118ae517a29732042177e051a106665.jpg  \n",
      " extracting: train/20-12-22-07-25-32-0371_jpg.rf.f118ae517a29732042177e051a106665.xml  \n",
      " extracting: train/20-12-22-07-25-37-0372_jpg.rf.3eaff1c5bb153dabc6a03f2db13f3404.jpg  \n",
      " extracting: train/20-12-22-07-25-37-0372_jpg.rf.3eaff1c5bb153dabc6a03f2db13f3404.xml  \n",
      " extracting: train/20-12-22-07-25-37-0372_jpg.rf.4305a142b9c40e32d6a1a2f8a37c1724.jpg  \n",
      " extracting: train/20-12-22-07-25-37-0372_jpg.rf.4305a142b9c40e32d6a1a2f8a37c1724.xml  \n",
      " extracting: train/20-12-22-07-25-37-0372_jpg.rf.60c4c3e9097c27e548a74a6e53ecd9f8.jpg  \n",
      " extracting: train/20-12-22-07-25-37-0372_jpg.rf.60c4c3e9097c27e548a74a6e53ecd9f8.xml  \n",
      " extracting: train/20-12-22-07-25-54-0374_jpg.rf.788932c8e69936f120041e02fbecb840.jpg  \n",
      " extracting: train/20-12-22-07-25-54-0374_jpg.rf.788932c8e69936f120041e02fbecb840.xml  \n",
      " extracting: train/20-12-22-07-25-54-0374_jpg.rf.92cfc89bd2093183fa900e9a48887e89.jpg  \n",
      " extracting: train/20-12-22-07-25-54-0374_jpg.rf.92cfc89bd2093183fa900e9a48887e89.xml  \n",
      " extracting: train/20-12-22-07-25-54-0374_jpg.rf.efc2d5483f9b6a619a553043bf00acac.jpg  \n",
      " extracting: train/20-12-22-07-25-54-0374_jpg.rf.efc2d5483f9b6a619a553043bf00acac.xml  \n",
      " extracting: train/20-12-22-07-26-01-0375_jpg.rf.6f3a8d85ff92f63a0ce1862a07a3ce4c.jpg  \n",
      " extracting: train/20-12-22-07-26-01-0375_jpg.rf.6f3a8d85ff92f63a0ce1862a07a3ce4c.xml  \n",
      " extracting: train/20-12-22-07-26-01-0375_jpg.rf.b83d597ab0b141c4c04f145d3df59983.jpg  \n",
      " extracting: train/20-12-22-07-26-01-0375_jpg.rf.b83d597ab0b141c4c04f145d3df59983.xml  \n",
      " extracting: train/20-12-22-07-26-01-0375_jpg.rf.cbf2c10148a6e761b328480ea9577477.jpg  \n",
      " extracting: train/20-12-22-07-26-01-0375_jpg.rf.cbf2c10148a6e761b328480ea9577477.xml  \n",
      " extracting: train/20-12-22-07-26-07-0376_jpg.rf.561dda60027f21bd8f2c819060f2e82d.jpg  \n",
      " extracting: train/20-12-22-07-26-07-0376_jpg.rf.561dda60027f21bd8f2c819060f2e82d.xml  \n",
      " extracting: train/20-12-22-07-26-07-0376_jpg.rf.99752615c5e5ee13aa5b1bd313d81ce4.jpg  \n",
      " extracting: train/20-12-22-07-26-07-0376_jpg.rf.99752615c5e5ee13aa5b1bd313d81ce4.xml  \n",
      " extracting: train/20-12-22-07-26-07-0376_jpg.rf.db4a9cc1ee2f33e31c3bf66fd79804bd.jpg  \n",
      " extracting: train/20-12-22-07-26-07-0376_jpg.rf.db4a9cc1ee2f33e31c3bf66fd79804bd.xml  \n",
      " extracting: train/21-03-25-16-19-25-0708_jpg.rf.1c0a861d1a9ba0d8d20b05a1bc63b2fc.jpg  \n",
      " extracting: train/21-03-25-16-19-25-0708_jpg.rf.1c0a861d1a9ba0d8d20b05a1bc63b2fc.xml  \n",
      " extracting: train/21-03-25-16-19-25-0708_jpg.rf.74338ac8e280fc32472fc2279eb1a50b.jpg  \n",
      " extracting: train/21-03-25-16-19-25-0708_jpg.rf.74338ac8e280fc32472fc2279eb1a50b.xml  \n",
      " extracting: train/21-03-25-16-19-25-0708_jpg.rf.aa8ea5c37a4d38b178df604fc5e62903.jpg  \n",
      " extracting: train/21-03-25-16-19-25-0708_jpg.rf.aa8ea5c37a4d38b178df604fc5e62903.xml  \n",
      " extracting: train/21-03-25-16-19-49-0709_jpg.rf.02f4e8dcdd1af8fab2fb45744302f5be.jpg  \n",
      " extracting: train/21-03-25-16-19-49-0709_jpg.rf.02f4e8dcdd1af8fab2fb45744302f5be.xml  \n",
      " extracting: train/21-03-25-16-19-49-0709_jpg.rf.9436635ad6f072d8e4d70bb0aed89c70.jpg  \n",
      " extracting: train/21-03-25-16-19-49-0709_jpg.rf.9436635ad6f072d8e4d70bb0aed89c70.xml  \n",
      " extracting: train/21-03-25-16-19-49-0709_jpg.rf.c2927b8b0263c9176d0e4a5e16f65f9c.jpg  \n",
      " extracting: train/21-03-25-16-19-49-0709_jpg.rf.c2927b8b0263c9176d0e4a5e16f65f9c.xml  \n",
      " extracting: train/21-03-25-16-20-51-0711_jpg.rf.45ce5b6999f879c8b9f3252816652cb1.jpg  \n",
      " extracting: train/21-03-25-16-20-51-0711_jpg.rf.45ce5b6999f879c8b9f3252816652cb1.xml  \n",
      " extracting: train/21-03-25-16-20-51-0711_jpg.rf.6a24c2eb1ffa875b8792a4b38f620851.jpg  \n",
      " extracting: train/21-03-25-16-20-51-0711_jpg.rf.6a24c2eb1ffa875b8792a4b38f620851.xml  \n",
      " extracting: train/21-03-25-16-20-51-0711_jpg.rf.8d81846e387ac35032e51a849d67d70a.jpg  \n",
      " extracting: train/21-03-25-16-20-51-0711_jpg.rf.8d81846e387ac35032e51a849d67d70a.xml  \n",
      " extracting: train/21-03-25-16-23-27-0713_jpg.rf.4e336e2ac1314dc3ac534eb8967de7eb.jpg  \n",
      " extracting: train/21-03-25-16-23-27-0713_jpg.rf.4e336e2ac1314dc3ac534eb8967de7eb.xml  \n",
      " extracting: train/21-03-25-16-23-27-0713_jpg.rf.757325b05886aedcadb524bb8024a5dc.jpg  \n",
      " extracting: train/21-03-25-16-23-27-0713_jpg.rf.757325b05886aedcadb524bb8024a5dc.xml  \n",
      " extracting: train/21-03-25-16-23-27-0713_jpg.rf.903185e46572a4089aaad8bef3b0b09b.jpg  \n",
      " extracting: train/21-03-25-16-23-27-0713_jpg.rf.903185e46572a4089aaad8bef3b0b09b.xml  \n",
      " extracting: train/21-03-25-16-23-38-0714_jpg.rf.288dccc889aebad030069acd69653436.jpg  \n",
      " extracting: train/21-03-25-16-23-38-0714_jpg.rf.288dccc889aebad030069acd69653436.xml  \n",
      " extracting: train/21-03-25-16-23-38-0714_jpg.rf.2a6f9c8ff70d6127bff1797f5abb1675.jpg  \n",
      " extracting: train/21-03-25-16-23-38-0714_jpg.rf.2a6f9c8ff70d6127bff1797f5abb1675.xml  \n",
      " extracting: train/21-03-25-16-23-38-0714_jpg.rf.791c150431f5ec5e317441fdd7a854b7.jpg  \n",
      " extracting: train/21-03-25-16-23-38-0714_jpg.rf.791c150431f5ec5e317441fdd7a854b7.xml  \n",
      " extracting: train/21-03-25-16-24-11-0715_jpg.rf.0fd490fc3d0d42c770a82daa2fd0422e.jpg  \n",
      " extracting: train/21-03-25-16-24-11-0715_jpg.rf.0fd490fc3d0d42c770a82daa2fd0422e.xml  \n",
      " extracting: train/21-03-25-16-24-11-0715_jpg.rf.67ce2504074633ce0eff0d3324f05fa0.jpg  \n",
      " extracting: train/21-03-25-16-24-11-0715_jpg.rf.67ce2504074633ce0eff0d3324f05fa0.xml  \n",
      " extracting: train/21-03-25-16-24-11-0715_jpg.rf.d73099b22ed9bd607dfdbb2bdca06129.jpg  \n",
      " extracting: train/21-03-25-16-24-11-0715_jpg.rf.d73099b22ed9bd607dfdbb2bdca06129.xml  \n",
      " extracting: train/21-03-25-16-24-19-0716_jpg.rf.69fca23a70c8958529d8b0bb1d63fe49.jpg  \n",
      " extracting: train/21-03-25-16-24-19-0716_jpg.rf.69fca23a70c8958529d8b0bb1d63fe49.xml  \n",
      " extracting: train/21-03-25-16-24-19-0716_jpg.rf.b8a15cc9caa9cd4e3378faeaf42d4edb.jpg  \n",
      " extracting: train/21-03-25-16-24-19-0716_jpg.rf.b8a15cc9caa9cd4e3378faeaf42d4edb.xml  \n",
      " extracting: train/21-03-25-16-24-19-0716_jpg.rf.e62db2e58e708f72fe8b9d24a2a676fd.jpg  \n",
      " extracting: train/21-03-25-16-24-19-0716_jpg.rf.e62db2e58e708f72fe8b9d24a2a676fd.xml  \n",
      " extracting: train/21-03-25-18-47-16-0717_jpg.rf.1f7e0176081afb9c16ae4815cfede2eb.jpg  \n",
      " extracting: train/21-03-25-18-47-16-0717_jpg.rf.1f7e0176081afb9c16ae4815cfede2eb.xml  \n",
      " extracting: train/21-03-25-18-47-16-0717_jpg.rf.9a19bb5a07fe46bfbabfabd22a48d204.jpg  \n",
      " extracting: train/21-03-25-18-47-16-0717_jpg.rf.9a19bb5a07fe46bfbabfabd22a48d204.xml  \n",
      " extracting: train/21-03-25-18-47-16-0717_jpg.rf.9b155afdd062e63a3c3c134697a22291.jpg  \n",
      " extracting: train/21-03-25-18-47-16-0717_jpg.rf.9b155afdd062e63a3c3c134697a22291.xml  \n",
      " extracting: train/21-03-25-18-47-39-0718_jpg.rf.26629f71218d9b8fb25b5374e7d7c93c.jpg  \n",
      " extracting: train/21-03-25-18-47-39-0718_jpg.rf.26629f71218d9b8fb25b5374e7d7c93c.xml  \n",
      " extracting: train/21-03-25-18-47-39-0718_jpg.rf.8ee93a7fac49a225b700970d14c65816.jpg  \n",
      " extracting: train/21-03-25-18-47-39-0718_jpg.rf.8ee93a7fac49a225b700970d14c65816.xml  \n",
      " extracting: train/21-03-25-18-47-39-0718_jpg.rf.ada7a28cbcc238173770d54f4de31dce.jpg  \n",
      " extracting: train/21-03-25-18-47-39-0718_jpg.rf.ada7a28cbcc238173770d54f4de31dce.xml  \n",
      " extracting: train/21-03-25-18-48-03-0719_jpg.rf.d4329b8f6ead00be3e7bc1122dc252b5.jpg  \n",
      " extracting: train/21-03-25-18-48-03-0719_jpg.rf.d4329b8f6ead00be3e7bc1122dc252b5.xml  \n",
      " extracting: train/21-03-25-18-48-03-0719_jpg.rf.dedb9e4273c5d59dfcc4147c53b746a1.jpg  \n",
      " extracting: train/21-03-25-18-48-03-0719_jpg.rf.dedb9e4273c5d59dfcc4147c53b746a1.xml  \n",
      " extracting: train/21-03-25-18-48-03-0719_jpg.rf.ea616e156eb3034e7d74e0f0fddae3fd.jpg  \n",
      " extracting: train/21-03-25-18-48-03-0719_jpg.rf.ea616e156eb3034e7d74e0f0fddae3fd.xml  \n",
      " extracting: train/21-03-25-18-48-15-0720_jpg.rf.9de59e91a13fe783e20f341aeda5835f.jpg  \n",
      " extracting: train/21-03-25-18-48-15-0720_jpg.rf.9de59e91a13fe783e20f341aeda5835f.xml  \n",
      " extracting: train/21-03-25-18-48-15-0720_jpg.rf.b98a52ee7cc58001d5e16ad7e945c7d8.jpg  \n",
      " extracting: train/21-03-25-18-48-15-0720_jpg.rf.b98a52ee7cc58001d5e16ad7e945c7d8.xml  \n",
      " extracting: train/21-03-25-18-48-15-0720_jpg.rf.da591d1cf8ec02ac81358a14bf69f2f5.jpg  \n",
      " extracting: train/21-03-25-18-48-15-0720_jpg.rf.da591d1cf8ec02ac81358a14bf69f2f5.xml  \n",
      " extracting: train/21-03-25-18-50-01-0722_jpg.rf.06db14ad85b0d7f836ea8524e11ec710.jpg  \n",
      " extracting: train/21-03-25-18-50-01-0722_jpg.rf.06db14ad85b0d7f836ea8524e11ec710.xml  \n",
      " extracting: train/21-03-25-18-50-01-0722_jpg.rf.7e7b60b4034d88a7ec366261bb2c1408.jpg  \n",
      " extracting: train/21-03-25-18-50-01-0722_jpg.rf.7e7b60b4034d88a7ec366261bb2c1408.xml  \n",
      " extracting: train/21-03-25-18-50-01-0722_jpg.rf.c8de3c864a2be765f3f5318dfa96b8b2.jpg  \n",
      " extracting: train/21-03-25-18-50-01-0722_jpg.rf.c8de3c864a2be765f3f5318dfa96b8b2.xml  \n",
      " extracting: train/21-03-25-18-51-30-0723_jpg.rf.410169314c71452924ebb5f92f7203de.jpg  \n",
      " extracting: train/21-03-25-18-51-30-0723_jpg.rf.410169314c71452924ebb5f92f7203de.xml  \n",
      " extracting: train/21-03-25-18-51-30-0723_jpg.rf.4e3c0266059eeba0f6db70883b49d709.jpg  \n",
      " extracting: train/21-03-25-18-51-30-0723_jpg.rf.4e3c0266059eeba0f6db70883b49d709.xml  \n",
      " extracting: train/21-03-25-18-51-30-0723_jpg.rf.7abe6d22e81251effe61dedb582e3aff.jpg  \n",
      " extracting: train/21-03-25-18-51-30-0723_jpg.rf.7abe6d22e81251effe61dedb582e3aff.xml  \n",
      " extracting: train/21-03-25-18-52-03-0724_jpg.rf.555612880a8d325affc8b8e65ef7b160.jpg  \n",
      " extracting: train/21-03-25-18-52-03-0724_jpg.rf.555612880a8d325affc8b8e65ef7b160.xml  \n",
      " extracting: train/21-03-25-18-52-03-0724_jpg.rf.a77cdc8fd823ba7c75bf6e52b2f87389.jpg  \n",
      " extracting: train/21-03-25-18-52-03-0724_jpg.rf.a77cdc8fd823ba7c75bf6e52b2f87389.xml  \n",
      " extracting: train/21-03-25-18-52-03-0724_jpg.rf.d4bfcaaa2d7fb259b5980cba95ca3e5f.jpg  \n",
      " extracting: train/21-03-25-18-52-03-0724_jpg.rf.d4bfcaaa2d7fb259b5980cba95ca3e5f.xml  \n",
      " extracting: train/21-03-25-18-52-18-0725_jpg.rf.2f7d71eef99a46f4bb74af42e6cd9158.jpg  \n",
      " extracting: train/21-03-25-18-52-18-0725_jpg.rf.2f7d71eef99a46f4bb74af42e6cd9158.xml  \n",
      " extracting: train/21-03-25-18-52-18-0725_jpg.rf.57dc5d2c4415fb89cf40146abde672f4.jpg  \n",
      " extracting: train/21-03-25-18-52-18-0725_jpg.rf.57dc5d2c4415fb89cf40146abde672f4.xml  \n",
      " extracting: train/21-03-25-18-52-18-0725_jpg.rf.a4c7edd838b2b2f66297802ceb1784cb.jpg  \n",
      " extracting: train/21-03-25-18-52-18-0725_jpg.rf.a4c7edd838b2b2f66297802ceb1784cb.xml  \n",
      " extracting: train/21-03-25-18-52-28-0726_jpg.rf.be97bc790e2785106a392052e3a1d74e.jpg  \n",
      " extracting: train/21-03-25-18-52-28-0726_jpg.rf.be97bc790e2785106a392052e3a1d74e.xml  \n",
      " extracting: train/21-03-25-18-52-28-0726_jpg.rf.d62b361efb684be94fdec4265ba05be1.jpg  \n",
      " extracting: train/21-03-25-18-52-28-0726_jpg.rf.d62b361efb684be94fdec4265ba05be1.xml  \n",
      " extracting: train/21-03-25-18-52-28-0726_jpg.rf.fa990d9f2cc04d8c27f666f633a3bf3b.jpg  \n",
      " extracting: train/21-03-25-18-52-28-0726_jpg.rf.fa990d9f2cc04d8c27f666f633a3bf3b.xml  \n",
      " extracting: train/21-03-26-12-22-00-0734_jpg.rf.0658c911dc65dc9b42c36b1f85e5d50f.jpg  \n",
      " extracting: train/21-03-26-12-22-00-0734_jpg.rf.0658c911dc65dc9b42c36b1f85e5d50f.xml  \n",
      " extracting: train/21-03-26-12-22-00-0734_jpg.rf.d0c4bad573cfb409c1922d37992955e6.jpg  \n",
      " extracting: train/21-03-26-12-22-00-0734_jpg.rf.d0c4bad573cfb409c1922d37992955e6.xml  \n",
      " extracting: train/21-03-26-12-22-00-0734_jpg.rf.efcce9f24788c8639b7df123f0b154a0.jpg  \n",
      " extracting: train/21-03-26-12-22-00-0734_jpg.rf.efcce9f24788c8639b7df123f0b154a0.xml  \n",
      " extracting: train/21-03-26-12-22-04-0735_jpg.rf.b9851b235c5feae8b13230ae5ca77019.jpg  \n",
      " extracting: train/21-03-26-12-22-04-0735_jpg.rf.b9851b235c5feae8b13230ae5ca77019.xml  \n",
      " extracting: train/21-03-26-12-22-04-0735_jpg.rf.dbafa5df7f3902a51cc4ee63f9b6e730.jpg  \n",
      " extracting: train/21-03-26-12-22-04-0735_jpg.rf.dbafa5df7f3902a51cc4ee63f9b6e730.xml  \n",
      " extracting: train/21-03-26-12-22-04-0735_jpg.rf.de4a1718be2eeb00177054263345c65e.jpg  \n",
      " extracting: train/21-03-26-12-22-04-0735_jpg.rf.de4a1718be2eeb00177054263345c65e.xml  \n",
      " extracting: train/21-03-26-12-22-15-0736_jpg.rf.904e5bab04843b40a4d73f277bdf0fc8.jpg  \n",
      " extracting: train/21-03-26-12-22-15-0736_jpg.rf.904e5bab04843b40a4d73f277bdf0fc8.xml  \n",
      " extracting: train/21-03-26-12-22-15-0736_jpg.rf.e79f36139bd2cf0c1c04457f1c9830ed.jpg  \n",
      " extracting: train/21-03-26-12-22-15-0736_jpg.rf.e79f36139bd2cf0c1c04457f1c9830ed.xml  \n",
      " extracting: train/21-03-26-12-22-15-0736_jpg.rf.f48075d10b3ab4bf888b809f305ccd5c.jpg  \n",
      " extracting: train/21-03-26-12-22-15-0736_jpg.rf.f48075d10b3ab4bf888b809f305ccd5c.xml  \n",
      " extracting: train/21-03-26-12-22-32-0738_jpg.rf.1f772590642182a2388828c11935d583.jpg  \n",
      " extracting: train/21-03-26-12-22-32-0738_jpg.rf.1f772590642182a2388828c11935d583.xml  \n",
      " extracting: train/21-03-26-12-22-32-0738_jpg.rf.4a9a61b67e0bfbc5efffcc0a9b14e723.jpg  \n",
      " extracting: train/21-03-26-12-22-32-0738_jpg.rf.4a9a61b67e0bfbc5efffcc0a9b14e723.xml  \n",
      " extracting: train/21-03-26-12-22-32-0738_jpg.rf.7d43c8df6152afc68535a3e2c5426781.jpg  \n",
      " extracting: train/21-03-26-12-22-32-0738_jpg.rf.7d43c8df6152afc68535a3e2c5426781.xml  \n",
      " extracting: train/21-03-26-12-22-36-0739_jpg.rf.3965936dae8e5ac79bd23f77e434681d.jpg  \n",
      " extracting: train/21-03-26-12-22-36-0739_jpg.rf.3965936dae8e5ac79bd23f77e434681d.xml  \n",
      " extracting: train/21-03-26-12-22-36-0739_jpg.rf.4d9819013a7cc24811b4ca08e7f6c4e5.jpg  \n",
      " extracting: train/21-03-26-12-22-36-0739_jpg.rf.4d9819013a7cc24811b4ca08e7f6c4e5.xml  \n",
      " extracting: train/21-03-26-12-22-36-0739_jpg.rf.c5e68b58afff9038a889164063a023a3.jpg  \n",
      " extracting: train/21-03-26-12-22-36-0739_jpg.rf.c5e68b58afff9038a889164063a023a3.xml  \n",
      " extracting: train/21-03-26-12-22-48-0741_jpg.rf.618b08fb14aa3c4ba8b946c56a35c771.jpg  \n",
      " extracting: train/21-03-26-12-22-48-0741_jpg.rf.618b08fb14aa3c4ba8b946c56a35c771.xml  \n",
      " extracting: train/21-03-26-12-22-48-0741_jpg.rf.974879a43ce7f217de6fe37d80e364e6.jpg  \n",
      " extracting: train/21-03-26-12-22-48-0741_jpg.rf.974879a43ce7f217de6fe37d80e364e6.xml  \n",
      " extracting: train/21-03-26-12-22-48-0741_jpg.rf.9ce0fa27f462c753e0861011c3afabd6.jpg  \n",
      " extracting: train/21-03-26-12-22-48-0741_jpg.rf.9ce0fa27f462c753e0861011c3afabd6.xml  \n",
      " extracting: train/21-03-26-12-22-58-0743_jpg.rf.12c51d72ed2337e8f30ef97267bd6b2b.jpg  \n",
      " extracting: train/21-03-26-12-22-58-0743_jpg.rf.12c51d72ed2337e8f30ef97267bd6b2b.xml  \n",
      " extracting: train/21-03-26-12-22-58-0743_jpg.rf.8405d9d01a05ef8df0457ecf139fe929.jpg  \n",
      " extracting: train/21-03-26-12-22-58-0743_jpg.rf.8405d9d01a05ef8df0457ecf139fe929.xml  \n",
      " extracting: train/21-03-26-12-22-58-0743_jpg.rf.c2a3a0b979851b7d11dbbe4770eb3c18.jpg  \n",
      " extracting: train/21-03-26-12-22-58-0743_jpg.rf.c2a3a0b979851b7d11dbbe4770eb3c18.xml  \n",
      " extracting: train/21-03-26-12-23-05-0744_jpg.rf.2a347603bb26ff5473c924353c1ba817.jpg  \n",
      " extracting: train/21-03-26-12-23-05-0744_jpg.rf.2a347603bb26ff5473c924353c1ba817.xml  \n",
      " extracting: train/21-03-26-12-23-05-0744_jpg.rf.3d10ccd8af2d529929c516039e8292a1.jpg  \n",
      " extracting: train/21-03-26-12-23-05-0744_jpg.rf.3d10ccd8af2d529929c516039e8292a1.xml  \n",
      " extracting: train/21-03-26-12-23-05-0744_jpg.rf.63f69e375e56d2b87043658be596d170.jpg  \n",
      " extracting: train/21-03-26-12-23-05-0744_jpg.rf.63f69e375e56d2b87043658be596d170.xml  \n",
      " extracting: train/21-03-26-12-23-15-0745_jpg.rf.33a2dbb1ce5b6597e6b07521a00cfc8a.jpg  \n",
      " extracting: train/21-03-26-12-23-15-0745_jpg.rf.33a2dbb1ce5b6597e6b07521a00cfc8a.xml  \n",
      " extracting: train/21-03-26-12-23-15-0745_jpg.rf.ef315288c1057459b69d3f47246fae3b.jpg  \n",
      " extracting: train/21-03-26-12-23-15-0745_jpg.rf.ef315288c1057459b69d3f47246fae3b.xml  \n",
      " extracting: train/21-03-26-12-23-15-0745_jpg.rf.fd4a07520c8f1a8f5de2466c3d868aab.jpg  \n",
      " extracting: train/21-03-26-12-23-15-0745_jpg.rf.fd4a07520c8f1a8f5de2466c3d868aab.xml  \n",
      " extracting: train/21-03-26-12-23-20-0746_jpg.rf.574f290a249ab161d68497b6c5552f2a.jpg  \n",
      " extracting: train/21-03-26-12-23-20-0746_jpg.rf.574f290a249ab161d68497b6c5552f2a.xml  \n",
      " extracting: train/21-03-26-12-23-20-0746_jpg.rf.896e19a100ade79a1e2b7058b17c7170.jpg  \n",
      " extracting: train/21-03-26-12-23-20-0746_jpg.rf.896e19a100ade79a1e2b7058b17c7170.xml  \n",
      " extracting: train/21-03-26-12-23-20-0746_jpg.rf.f68d448b2496ebd0c05642e1c34574d7.jpg  \n",
      " extracting: train/21-03-26-12-23-20-0746_jpg.rf.f68d448b2496ebd0c05642e1c34574d7.xml  \n",
      " extracting: train/21-03-26-12-24-44-0748_jpg.rf.6b6533b0eac4df87f1126f83f26fc34b.jpg  \n",
      " extracting: train/21-03-26-12-24-44-0748_jpg.rf.6b6533b0eac4df87f1126f83f26fc34b.xml  \n",
      " extracting: train/21-03-26-12-24-44-0748_jpg.rf.9384ee3b83ab8b0f2dd3c74959ae4016.jpg  \n",
      " extracting: train/21-03-26-12-24-44-0748_jpg.rf.9384ee3b83ab8b0f2dd3c74959ae4016.xml  \n",
      " extracting: train/21-03-26-12-24-44-0748_jpg.rf.f3e9f7d7ab1a8dc5d419f113b58a9379.jpg  \n",
      " extracting: train/21-03-26-12-24-44-0748_jpg.rf.f3e9f7d7ab1a8dc5d419f113b58a9379.xml  \n",
      " extracting: train/21-03-26-12-24-48-0749_jpg.rf.0faaa18622f493b08672a983bea8f9ed.jpg  \n",
      " extracting: train/21-03-26-12-24-48-0749_jpg.rf.0faaa18622f493b08672a983bea8f9ed.xml  \n",
      " extracting: train/21-03-26-12-24-48-0749_jpg.rf.2dad3158ec1026c16c9aea283b15a75c.jpg  \n",
      " extracting: train/21-03-26-12-24-48-0749_jpg.rf.2dad3158ec1026c16c9aea283b15a75c.xml  \n",
      " extracting: train/21-03-26-12-24-48-0749_jpg.rf.ece4d1bce61effec4f47e2ee3d62eebd.jpg  \n",
      " extracting: train/21-03-26-12-24-48-0749_jpg.rf.ece4d1bce61effec4f47e2ee3d62eebd.xml  \n",
      " extracting: train/21-03-26-12-24-53-0750_jpg.rf.040c6ef588827d000a00d556644deb4d.jpg  \n",
      " extracting: train/21-03-26-12-24-53-0750_jpg.rf.040c6ef588827d000a00d556644deb4d.xml  \n",
      " extracting: train/21-03-26-12-24-53-0750_jpg.rf.c38adf923ab28cec60a88b27ac71c4ba.jpg  \n",
      " extracting: train/21-03-26-12-24-53-0750_jpg.rf.c38adf923ab28cec60a88b27ac71c4ba.xml  \n",
      " extracting: train/21-03-26-12-24-53-0750_jpg.rf.c3a2604188e012e65df1136e19e202c2.jpg  \n",
      " extracting: train/21-03-26-12-24-53-0750_jpg.rf.c3a2604188e012e65df1136e19e202c2.xml  \n",
      " extracting: train/21-03-26-12-24-58-0751_jpg.rf.2f115000793c5fc9b48a1705785d983e.jpg  \n",
      " extracting: train/21-03-26-12-24-58-0751_jpg.rf.2f115000793c5fc9b48a1705785d983e.xml  \n",
      " extracting: train/21-03-26-12-24-58-0751_jpg.rf.3e6838ca34145230b4f401b0654f9639.jpg  \n",
      " extracting: train/21-03-26-12-24-58-0751_jpg.rf.3e6838ca34145230b4f401b0654f9639.xml  \n",
      " extracting: train/21-03-26-12-24-58-0751_jpg.rf.72bd95a1905125f2063cbff71b3ea681.jpg  \n",
      " extracting: train/21-03-26-12-24-58-0751_jpg.rf.72bd95a1905125f2063cbff71b3ea681.xml  \n",
      " extracting: train/21-03-26-12-25-34-0753_jpg.rf.648c6fc7c10219cb927f3e90348f0c5d.jpg  \n",
      " extracting: train/21-03-26-12-25-34-0753_jpg.rf.648c6fc7c10219cb927f3e90348f0c5d.xml  \n",
      " extracting: train/21-03-26-12-25-34-0753_jpg.rf.b73961a378a4d47f1dd5b03bd21deda4.jpg  \n",
      " extracting: train/21-03-26-12-25-34-0753_jpg.rf.b73961a378a4d47f1dd5b03bd21deda4.xml  \n",
      " extracting: train/21-03-26-12-25-34-0753_jpg.rf.bfa71bc0e89ceffd5e959fb8fd424771.jpg  \n",
      " extracting: train/21-03-26-12-25-34-0753_jpg.rf.bfa71bc0e89ceffd5e959fb8fd424771.xml  \n",
      " extracting: train/21-03-26-12-26-11-0756_jpg.rf.1dd1fda26a1c693dfbd6e5001c75c66f.jpg  \n",
      " extracting: train/21-03-26-12-26-11-0756_jpg.rf.1dd1fda26a1c693dfbd6e5001c75c66f.xml  \n",
      " extracting: train/21-03-26-12-26-11-0756_jpg.rf.d91323a44fb7365dbbd0ed5e7267c898.jpg  \n",
      " extracting: train/21-03-26-12-26-11-0756_jpg.rf.d91323a44fb7365dbbd0ed5e7267c898.xml  \n",
      " extracting: train/21-03-26-12-26-11-0756_jpg.rf.dc1a8b10b65051c9ad2bf1cc304465dd.jpg  \n",
      " extracting: train/21-03-26-12-26-11-0756_jpg.rf.dc1a8b10b65051c9ad2bf1cc304465dd.xml  \n",
      " extracting: train/21-03-26-18-46-22-0758_jpg.rf.9a18bf9cc2067f2025dc2ead48a1b21f.jpg  \n",
      " extracting: train/21-03-26-18-46-22-0758_jpg.rf.9a18bf9cc2067f2025dc2ead48a1b21f.xml  \n",
      " extracting: train/21-03-26-18-46-22-0758_jpg.rf.c15476b360eb8c48e18ca1f5ca057378.jpg  \n",
      " extracting: train/21-03-26-18-46-22-0758_jpg.rf.c15476b360eb8c48e18ca1f5ca057378.xml  \n",
      " extracting: train/21-03-26-18-46-22-0758_jpg.rf.f3f85583a6b2f64244fe0a580121cbee.jpg  \n",
      " extracting: train/21-03-26-18-46-22-0758_jpg.rf.f3f85583a6b2f64244fe0a580121cbee.xml  \n",
      " extracting: train/21-03-27-09-03-05-0762_jpg.rf.506b41dce17fb04ea6473271114204ff.jpg  \n",
      " extracting: train/21-03-27-09-03-05-0762_jpg.rf.506b41dce17fb04ea6473271114204ff.xml  \n",
      " extracting: train/21-03-27-09-03-05-0762_jpg.rf.53b8467adb2d025bdb0a5e1ed3cdf4cf.jpg  \n",
      " extracting: train/21-03-27-09-03-05-0762_jpg.rf.53b8467adb2d025bdb0a5e1ed3cdf4cf.xml  \n",
      " extracting: train/21-03-27-09-03-05-0762_jpg.rf.9b7a294260059cf09c8ae99d397f7636.jpg  \n",
      " extracting: train/21-03-27-09-03-05-0762_jpg.rf.9b7a294260059cf09c8ae99d397f7636.xml  \n",
      " extracting: train/21-03-27-09-03-14-0763_jpg.rf.611120a00bebb23769065343f96f162b.jpg  \n",
      " extracting: train/21-03-27-09-03-14-0763_jpg.rf.611120a00bebb23769065343f96f162b.xml  \n",
      " extracting: train/21-03-27-09-03-14-0763_jpg.rf.a1410c9ceb430a407d2bd8f3c0b7ca5f.jpg  \n",
      " extracting: train/21-03-27-09-03-14-0763_jpg.rf.a1410c9ceb430a407d2bd8f3c0b7ca5f.xml  \n",
      " extracting: train/21-03-27-09-03-14-0763_jpg.rf.a42605f5e7fc115df012101ecf863855.jpg  \n",
      " extracting: train/21-03-27-09-03-14-0763_jpg.rf.a42605f5e7fc115df012101ecf863855.xml  \n",
      " extracting: train/21-03-27-09-03-20-0764_jpg.rf.0fbbd6c0f0adf868c117a6731fbefed5.jpg  \n",
      " extracting: train/21-03-27-09-03-20-0764_jpg.rf.0fbbd6c0f0adf868c117a6731fbefed5.xml  \n",
      " extracting: train/21-03-27-09-03-20-0764_jpg.rf.80807fa0e079793d46e6b5ed70829f0c.jpg  \n",
      " extracting: train/21-03-27-09-03-20-0764_jpg.rf.80807fa0e079793d46e6b5ed70829f0c.xml  \n",
      " extracting: train/21-03-27-09-03-20-0764_jpg.rf.e3b24d4e6997b632c0349e55f6619e47.jpg  \n",
      " extracting: train/21-03-27-09-03-20-0764_jpg.rf.e3b24d4e6997b632c0349e55f6619e47.xml  \n",
      " extracting: train/21-03-27-09-03-32-0766_jpg.rf.4153707f4e86bed56ba58b1cbfc4f97e.jpg  \n",
      " extracting: train/21-03-27-09-03-32-0766_jpg.rf.4153707f4e86bed56ba58b1cbfc4f97e.xml  \n",
      " extracting: train/21-03-27-09-03-32-0766_jpg.rf.e41941af043b97351c42debfb4dc8e20.jpg  \n",
      " extracting: train/21-03-27-09-03-32-0766_jpg.rf.e41941af043b97351c42debfb4dc8e20.xml  \n",
      " extracting: train/21-03-27-09-03-32-0766_jpg.rf.fed17288174be19d58dc39057cdaa505.jpg  \n",
      " extracting: train/21-03-27-09-03-32-0766_jpg.rf.fed17288174be19d58dc39057cdaa505.xml  \n",
      " extracting: train/21-03-27-09-03-42-0768_jpg.rf.29cfcd12b8a5c091058458eb07fd9237.jpg  \n",
      " extracting: train/21-03-27-09-03-42-0768_jpg.rf.29cfcd12b8a5c091058458eb07fd9237.xml  \n",
      " extracting: train/21-03-27-09-03-42-0768_jpg.rf.7684bec9c40edcb5671420aa08533bc2.jpg  \n",
      " extracting: train/21-03-27-09-03-42-0768_jpg.rf.7684bec9c40edcb5671420aa08533bc2.xml  \n",
      " extracting: train/21-03-27-09-03-42-0768_jpg.rf.ba4bbd1617057376670cb141cf8494c8.jpg  \n",
      " extracting: train/21-03-27-09-03-42-0768_jpg.rf.ba4bbd1617057376670cb141cf8494c8.xml  \n",
      " extracting: train/21-03-27-09-03-48-0770_jpg.rf.0f31ad914973f7655af622c0603485af.jpg  \n",
      " extracting: train/21-03-27-09-03-48-0770_jpg.rf.0f31ad914973f7655af622c0603485af.xml  \n",
      " extracting: train/21-03-27-09-03-48-0770_jpg.rf.3a3c89542b6b8c29f9505e2b11f44a00.jpg  \n",
      " extracting: train/21-03-27-09-03-48-0770_jpg.rf.3a3c89542b6b8c29f9505e2b11f44a00.xml  \n",
      " extracting: train/21-03-27-09-03-48-0770_jpg.rf.48dd799fa5e486ae51b6e83d726b91eb.jpg  \n",
      " extracting: train/21-03-27-09-03-48-0770_jpg.rf.48dd799fa5e486ae51b6e83d726b91eb.xml  \n",
      " extracting: train/21-03-27-09-03-53-0772_jpg.rf.362a3201541e1e7935623a6956659e61.jpg  \n",
      " extracting: train/21-03-27-09-03-53-0772_jpg.rf.362a3201541e1e7935623a6956659e61.xml  \n",
      " extracting: train/21-03-27-09-03-53-0772_jpg.rf.3d394a4a96adfaae62b9196fda1cde7b.jpg  \n",
      " extracting: train/21-03-27-09-03-53-0772_jpg.rf.3d394a4a96adfaae62b9196fda1cde7b.xml  \n",
      " extracting: train/21-03-27-09-03-53-0772_jpg.rf.966f7b26cd59b747cea634badb46d7be.jpg  \n",
      " extracting: train/21-03-27-09-03-53-0772_jpg.rf.966f7b26cd59b747cea634badb46d7be.xml  \n",
      " extracting: train/21-03-27-09-03-56-0773_jpg.rf.50b2790fda94ead634d0bb4bcd779355.jpg  \n",
      " extracting: train/21-03-27-09-03-56-0773_jpg.rf.50b2790fda94ead634d0bb4bcd779355.xml  \n",
      " extracting: train/21-03-27-09-03-56-0773_jpg.rf.ac7015a48004d569435c0a4b646a7c89.jpg  \n",
      " extracting: train/21-03-27-09-03-56-0773_jpg.rf.ac7015a48004d569435c0a4b646a7c89.xml  \n",
      " extracting: train/21-03-27-09-03-56-0773_jpg.rf.e1fc0414c811f220cd3b28338abfa54f.jpg  \n",
      " extracting: train/21-03-27-09-03-56-0773_jpg.rf.e1fc0414c811f220cd3b28338abfa54f.xml  \n",
      " extracting: train/21-03-27-09-04-00-0775_jpg.rf.989742f8f8c14c5609a8d61dda4a68e7.jpg  \n",
      " extracting: train/21-03-27-09-04-00-0775_jpg.rf.989742f8f8c14c5609a8d61dda4a68e7.xml  \n",
      " extracting: train/21-03-27-09-04-00-0775_jpg.rf.b060e2731d21ac24bd5e9948acaa9ba2.jpg  \n",
      " extracting: train/21-03-27-09-04-00-0775_jpg.rf.b060e2731d21ac24bd5e9948acaa9ba2.xml  \n",
      " extracting: train/21-03-27-09-04-00-0775_jpg.rf.b4597446d07ef9f27053b43c9c865a07.jpg  \n",
      " extracting: train/21-03-27-09-04-00-0775_jpg.rf.b4597446d07ef9f27053b43c9c865a07.xml  \n",
      " extracting: train/21-03-27-09-04-02-0776_jpg.rf.947c42e8dbd0cc87854fa051f9b58948.jpg  \n",
      " extracting: train/21-03-27-09-04-02-0776_jpg.rf.947c42e8dbd0cc87854fa051f9b58948.xml  \n",
      " extracting: train/21-03-27-09-04-02-0776_jpg.rf.9d047689ea95dc363626d94b6dca2b8d.jpg  \n",
      " extracting: train/21-03-27-09-04-02-0776_jpg.rf.9d047689ea95dc363626d94b6dca2b8d.xml  \n",
      " extracting: train/21-03-27-09-04-02-0776_jpg.rf.af68830e2b2a6030077081effd31987c.jpg  \n",
      " extracting: train/21-03-27-09-04-02-0776_jpg.rf.af68830e2b2a6030077081effd31987c.xml  \n",
      " extracting: train/21-03-27-09-04-06-0777_jpg.rf.41eb15c49a18252fd3ffc154eb421512.jpg  \n",
      " extracting: train/21-03-27-09-04-06-0777_jpg.rf.41eb15c49a18252fd3ffc154eb421512.xml  \n",
      " extracting: train/21-03-27-09-04-06-0777_jpg.rf.ba6305465a9b55c92e4f3ad2d1ccae76.jpg  \n",
      " extracting: train/21-03-27-09-04-06-0777_jpg.rf.ba6305465a9b55c92e4f3ad2d1ccae76.xml  \n",
      " extracting: train/21-03-27-09-04-06-0777_jpg.rf.bd4a991b11fb01bc2f9205f4c0755ffc.jpg  \n",
      " extracting: train/21-03-27-09-04-06-0777_jpg.rf.bd4a991b11fb01bc2f9205f4c0755ffc.xml  \n",
      " extracting: train/21-03-27-09-04-08-0778_jpg.rf.33004e158a3b9c446d619b0c95fe33a7.jpg  \n",
      " extracting: train/21-03-27-09-04-08-0778_jpg.rf.33004e158a3b9c446d619b0c95fe33a7.xml  \n",
      " extracting: train/21-03-27-09-04-08-0778_jpg.rf.67b85437825d2b1b10f2fc6dceb05fd2.jpg  \n",
      " extracting: train/21-03-27-09-04-08-0778_jpg.rf.67b85437825d2b1b10f2fc6dceb05fd2.xml  \n",
      " extracting: train/21-03-27-09-04-08-0778_jpg.rf.685e8d9d54d605a6db6bfa1b409a7b30.jpg  \n",
      " extracting: train/21-03-27-09-04-08-0778_jpg.rf.685e8d9d54d605a6db6bfa1b409a7b30.xml  \n",
      " extracting: train/21-03-27-09-05-43-0781_jpg.rf.435909b4d55fa71842ed696c00d70e01.jpg  \n",
      " extracting: train/21-03-27-09-05-43-0781_jpg.rf.435909b4d55fa71842ed696c00d70e01.xml  \n",
      " extracting: train/21-03-27-09-05-43-0781_jpg.rf.d52c796096ce65707e794e2cd5a2bf36.jpg  \n",
      " extracting: train/21-03-27-09-05-43-0781_jpg.rf.d52c796096ce65707e794e2cd5a2bf36.xml  \n",
      " extracting: train/21-03-27-09-05-43-0781_jpg.rf.d98db644901772e8a58c73ee2111465d.jpg  \n",
      " extracting: train/21-03-27-09-05-43-0781_jpg.rf.d98db644901772e8a58c73ee2111465d.xml  \n",
      " extracting: train/21-03-27-09-08-11-0783_jpg.rf.cb909c98c65941e402706639a39d1187.jpg  \n",
      " extracting: train/21-03-27-09-08-11-0783_jpg.rf.cb909c98c65941e402706639a39d1187.xml  \n",
      " extracting: train/21-03-27-09-08-11-0783_jpg.rf.d084d7e97ca2ce7a53f453f55ac4a00c.jpg  \n",
      " extracting: train/21-03-27-09-08-11-0783_jpg.rf.d084d7e97ca2ce7a53f453f55ac4a00c.xml  \n",
      " extracting: train/21-03-27-09-08-11-0783_jpg.rf.d8871ec6a332bd94b6afe25752e69be7.jpg  \n",
      " extracting: train/21-03-27-09-08-11-0783_jpg.rf.d8871ec6a332bd94b6afe25752e69be7.xml  \n",
      " extracting: train/21-03-27-19-39-23-0784_jpg.rf.8770d1d7aef26e6d9869744f26de9560.jpg  \n",
      " extracting: train/21-03-27-19-39-23-0784_jpg.rf.8770d1d7aef26e6d9869744f26de9560.xml  \n",
      " extracting: train/21-03-27-19-39-23-0784_jpg.rf.bb22aa64fee20b6b2fd7028e4de83d72.jpg  \n",
      " extracting: train/21-03-27-19-39-23-0784_jpg.rf.bb22aa64fee20b6b2fd7028e4de83d72.xml  \n",
      " extracting: train/21-03-27-19-39-23-0784_jpg.rf.c840af8cf60d6844bf4cdf5fd2f73e69.jpg  \n",
      " extracting: train/21-03-27-19-39-23-0784_jpg.rf.c840af8cf60d6844bf4cdf5fd2f73e69.xml  \n",
      " extracting: train/21-03-28-13-42-06-0787_jpg.rf.1efa9d0481e2b3c3ea149a0a958fd268.jpg  \n",
      " extracting: train/21-03-28-13-42-06-0787_jpg.rf.1efa9d0481e2b3c3ea149a0a958fd268.xml  \n",
      " extracting: train/21-03-28-13-42-06-0787_jpg.rf.816b6cd90396c4dbba06e0cca7e81f38.jpg  \n",
      " extracting: train/21-03-28-13-42-06-0787_jpg.rf.816b6cd90396c4dbba06e0cca7e81f38.xml  \n",
      " extracting: train/21-03-28-13-42-06-0787_jpg.rf.b4bbae804cc37ed93f7c54002b22ce3d.jpg  \n",
      " extracting: train/21-03-28-13-42-06-0787_jpg.rf.b4bbae804cc37ed93f7c54002b22ce3d.xml  \n",
      " extracting: train/21-03-28-13-42-21-0788_jpg.rf.2ec204c37b232c746ee576e025f33655.jpg  \n",
      " extracting: train/21-03-28-13-42-21-0788_jpg.rf.2ec204c37b232c746ee576e025f33655.xml  \n",
      " extracting: train/21-03-28-13-42-21-0788_jpg.rf.6be0cf98f3ee83ca04ef82ba71080ee8.jpg  \n",
      " extracting: train/21-03-28-13-42-21-0788_jpg.rf.6be0cf98f3ee83ca04ef82ba71080ee8.xml  \n",
      " extracting: train/21-03-28-13-42-21-0788_jpg.rf.7ff32de3b5ddf5104ee4d728f95483b6.jpg  \n",
      " extracting: train/21-03-28-13-42-21-0788_jpg.rf.7ff32de3b5ddf5104ee4d728f95483b6.xml  \n",
      " extracting: train/21-03-28-13-42-27-0789_jpg.rf.12fe13482685c91391cce6780054dc97.jpg  \n",
      " extracting: train/21-03-28-13-42-27-0789_jpg.rf.12fe13482685c91391cce6780054dc97.xml  \n",
      " extracting: train/21-03-28-13-42-27-0789_jpg.rf.a5bc52b9366006c0196a9ae92be39ddc.jpg  \n",
      " extracting: train/21-03-28-13-42-27-0789_jpg.rf.a5bc52b9366006c0196a9ae92be39ddc.xml  \n",
      " extracting: train/21-03-28-13-42-27-0789_jpg.rf.dfbf6c1033b2239d7372cb4e8b4aea36.jpg  \n",
      " extracting: train/21-03-28-13-42-27-0789_jpg.rf.dfbf6c1033b2239d7372cb4e8b4aea36.xml  \n",
      " extracting: train/21-03-28-13-42-33-0790_jpg.rf.1553cb863e50582d189c2c8c86f4679c.jpg  \n",
      " extracting: train/21-03-28-13-42-33-0790_jpg.rf.1553cb863e50582d189c2c8c86f4679c.xml  \n",
      " extracting: train/21-03-28-13-42-33-0790_jpg.rf.1a2590e22668504f233fa6080e39a0c9.jpg  \n",
      " extracting: train/21-03-28-13-42-33-0790_jpg.rf.1a2590e22668504f233fa6080e39a0c9.xml  \n",
      " extracting: train/21-03-28-13-42-33-0790_jpg.rf.a192b77b139b0ef900faa7fe76362bc2.jpg  \n",
      " extracting: train/21-03-28-13-42-33-0790_jpg.rf.a192b77b139b0ef900faa7fe76362bc2.xml  \n",
      " extracting: train/21-03-28-13-42-38-0791_jpg.rf.6c6c50ac0f34a291cc865249528ebc06.jpg  \n",
      " extracting: train/21-03-28-13-42-38-0791_jpg.rf.6c6c50ac0f34a291cc865249528ebc06.xml  \n",
      " extracting: train/21-03-28-13-42-38-0791_jpg.rf.a8a05c12083ecc615d000e9a5e50b959.jpg  \n",
      " extracting: train/21-03-28-13-42-38-0791_jpg.rf.a8a05c12083ecc615d000e9a5e50b959.xml  \n",
      " extracting: train/21-03-28-13-42-38-0791_jpg.rf.f5ca22c3723bb411751035c53acb8d4a.jpg  \n",
      " extracting: train/21-03-28-13-42-38-0791_jpg.rf.f5ca22c3723bb411751035c53acb8d4a.xml  \n",
      " extracting: train/21-03-28-13-42-43-0792_jpg.rf.48a068cbc5d5c0f2e1ff5d6fe145f788.jpg  \n",
      " extracting: train/21-03-28-13-42-43-0792_jpg.rf.48a068cbc5d5c0f2e1ff5d6fe145f788.xml  \n",
      " extracting: train/21-03-28-13-42-43-0792_jpg.rf.65f9b1421486a806808809e2594ca1ff.jpg  \n",
      " extracting: train/21-03-28-13-42-43-0792_jpg.rf.65f9b1421486a806808809e2594ca1ff.xml  \n",
      " extracting: train/21-03-28-13-42-43-0792_jpg.rf.96fca3dbad596d001f8fea849fce9c6a.jpg  \n",
      " extracting: train/21-03-28-13-42-43-0792_jpg.rf.96fca3dbad596d001f8fea849fce9c6a.xml  \n",
      " extracting: train/21-03-28-13-42-46-0793_jpg.rf.8153b552e889a0fea7292e50b0b1b3c5.jpg  \n",
      " extracting: train/21-03-28-13-42-46-0793_jpg.rf.8153b552e889a0fea7292e50b0b1b3c5.xml  \n",
      " extracting: train/21-03-28-13-42-46-0793_jpg.rf.8c8afa1fcd4371a60e5bb468979f20fd.jpg  \n",
      " extracting: train/21-03-28-13-42-46-0793_jpg.rf.8c8afa1fcd4371a60e5bb468979f20fd.xml  \n",
      " extracting: train/21-03-28-13-42-46-0793_jpg.rf.db4d399cc1c6f1b029f007138cb6f524.jpg  \n",
      " extracting: train/21-03-28-13-42-46-0793_jpg.rf.db4d399cc1c6f1b029f007138cb6f524.xml  \n",
      " extracting: train/21-03-28-13-42-50-0794_jpg.rf.59fdabc4591b45d99d55274b6ad4f2d0.jpg  \n",
      " extracting: train/21-03-28-13-42-50-0794_jpg.rf.59fdabc4591b45d99d55274b6ad4f2d0.xml  \n",
      " extracting: train/21-03-28-13-42-50-0794_jpg.rf.7f035a1fa63cf0747d36116e502b3c39.jpg  \n",
      " extracting: train/21-03-28-13-42-50-0794_jpg.rf.7f035a1fa63cf0747d36116e502b3c39.xml  \n",
      " extracting: train/21-03-28-13-42-50-0794_jpg.rf.848e20442cedd2c979e6c2851528febd.jpg  \n",
      " extracting: train/21-03-28-13-42-50-0794_jpg.rf.848e20442cedd2c979e6c2851528febd.xml  \n",
      " extracting: train/21-03-28-13-42-53-0795_jpg.rf.4c2751e5fb115f5c071fc736ad8d257e.jpg  \n",
      " extracting: train/21-03-28-13-42-53-0795_jpg.rf.4c2751e5fb115f5c071fc736ad8d257e.xml  \n",
      " extracting: train/21-03-28-13-42-53-0795_jpg.rf.7c3e39802d3273102a1e075ef7aa6831.jpg  \n",
      " extracting: train/21-03-28-13-42-53-0795_jpg.rf.7c3e39802d3273102a1e075ef7aa6831.xml  \n",
      " extracting: train/21-03-28-13-42-53-0795_jpg.rf.a6352f3338eb409742923ed8a3d06f98.jpg  \n",
      " extracting: train/21-03-28-13-42-53-0795_jpg.rf.a6352f3338eb409742923ed8a3d06f98.xml  \n",
      " extracting: train/21-03-28-18-52-12-0797_jpg.rf.0ced5daa0dbadc6b340b23efdd8c1061.jpg  \n",
      " extracting: train/21-03-28-18-52-12-0797_jpg.rf.0ced5daa0dbadc6b340b23efdd8c1061.xml  \n",
      " extracting: train/21-03-28-18-52-12-0797_jpg.rf.522fbf26826e73498404aa3d74acc798.jpg  \n",
      " extracting: train/21-03-28-18-52-12-0797_jpg.rf.522fbf26826e73498404aa3d74acc798.xml  \n",
      " extracting: train/21-03-28-18-52-12-0797_jpg.rf.860013eb60d78c063b3648be166581cd.jpg  \n",
      " extracting: train/21-03-28-18-52-12-0797_jpg.rf.860013eb60d78c063b3648be166581cd.xml  \n",
      " extracting: train/21-03-29-07-04-16-0798_jpg.rf.b1201e3440982ed233e478c32d4c00ad.jpg  \n",
      " extracting: train/21-03-29-07-04-16-0798_jpg.rf.b1201e3440982ed233e478c32d4c00ad.xml  \n",
      " extracting: train/21-03-29-07-04-16-0798_jpg.rf.b202afff815a4db4c12f08c1fb4ebb39.jpg  \n",
      " extracting: train/21-03-29-07-04-16-0798_jpg.rf.b202afff815a4db4c12f08c1fb4ebb39.xml  \n",
      " extracting: train/21-03-29-07-04-16-0798_jpg.rf.f5fcf6c3b6c3775ae7035a0df9310d62.jpg  \n",
      " extracting: train/21-03-29-07-04-16-0798_jpg.rf.f5fcf6c3b6c3775ae7035a0df9310d62.xml  \n",
      " extracting: train/21-03-29-18-36-11-0803_jpg.rf.23a8d5bf8b4e587c39cf85f7aed40606.jpg  \n",
      " extracting: train/21-03-29-18-36-11-0803_jpg.rf.23a8d5bf8b4e587c39cf85f7aed40606.xml  \n",
      " extracting: train/21-03-29-18-36-11-0803_jpg.rf.5103a843505a42f0489fa242f0d022ce.jpg  \n",
      " extracting: train/21-03-29-18-36-11-0803_jpg.rf.5103a843505a42f0489fa242f0d022ce.xml  \n",
      " extracting: train/21-03-29-18-36-11-0803_jpg.rf.abe9256967431259aa5918047b6fb746.jpg  \n",
      " extracting: train/21-03-29-18-36-11-0803_jpg.rf.abe9256967431259aa5918047b6fb746.xml  \n",
      " extracting: train/21-03-29-18-41-03-0804_jpg.rf.7566dc3a22b42258fbb0742164a58107.jpg  \n",
      " extracting: train/21-03-29-18-41-03-0804_jpg.rf.7566dc3a22b42258fbb0742164a58107.xml  \n",
      " extracting: train/21-03-29-18-41-03-0804_jpg.rf.c807562da0f38eb4cabe6d9a11e96a53.jpg  \n",
      " extracting: train/21-03-29-18-41-03-0804_jpg.rf.c807562da0f38eb4cabe6d9a11e96a53.xml  \n",
      " extracting: train/21-03-29-18-41-03-0804_jpg.rf.cc419cd42371765069bba1d109bdd7e9.jpg  \n",
      " extracting: train/21-03-29-18-41-03-0804_jpg.rf.cc419cd42371765069bba1d109bdd7e9.xml  \n",
      " extracting: train/21-03-29-18-41-18-0806_jpg.rf.4aade7922e949c9b04bd3aa8040123c2.jpg  \n",
      " extracting: train/21-03-29-18-41-18-0806_jpg.rf.4aade7922e949c9b04bd3aa8040123c2.xml  \n",
      " extracting: train/21-03-29-18-41-18-0806_jpg.rf.50186b4b6da2bd938e23d8108ddcc70d.jpg  \n",
      " extracting: train/21-03-29-18-41-18-0806_jpg.rf.50186b4b6da2bd938e23d8108ddcc70d.xml  \n",
      " extracting: train/21-03-29-18-41-18-0806_jpg.rf.79d0d0978baf6aa61ae933babace596f.jpg  \n",
      " extracting: train/21-03-29-18-41-18-0806_jpg.rf.79d0d0978baf6aa61ae933babace596f.xml  \n",
      "   creating: valid/\n",
      " extracting: valid/20-09-07-13-09-17-9706_jpg.rf.df09842ade459c9662855ee63377fff1.jpg  \n",
      " extracting: valid/20-09-07-13-09-17-9706_jpg.rf.df09842ade459c9662855ee63377fff1.xml  \n",
      " extracting: valid/20-09-12-08-37-42-9787_jpg.rf.fa815b308f16190532f9ad97177d7960.jpg  \n",
      " extracting: valid/20-09-12-08-37-42-9787_jpg.rf.fa815b308f16190532f9ad97177d7960.xml  \n",
      " extracting: valid/20-11-30-07-38-01-0278_jpg.rf.ede42c8ca7fec6b3851da0929208673a.jpg  \n",
      " extracting: valid/20-11-30-07-38-01-0278_jpg.rf.ede42c8ca7fec6b3851da0929208673a.xml  \n",
      " extracting: valid/20-12-19-07-39-50-0351_jpg.rf.0142665770ec708d8b1a71aecc874015.jpg  \n",
      " extracting: valid/20-12-19-07-39-50-0351_jpg.rf.0142665770ec708d8b1a71aecc874015.xml  \n",
      " extracting: valid/20-12-20-12-44-18-0352_jpg.rf.9e389d76de468c8c51c1386968392b13.jpg  \n",
      " extracting: valid/20-12-20-12-44-18-0352_jpg.rf.9e389d76de468c8c51c1386968392b13.xml  \n",
      " extracting: valid/20-12-20-12-44-32-0356_jpg.rf.21cbeb8a7e9af647c167015e2219576b.jpg  \n",
      " extracting: valid/20-12-20-12-44-32-0356_jpg.rf.21cbeb8a7e9af647c167015e2219576b.xml  \n",
      " extracting: valid/20-12-22-07-23-58-0362_jpg.rf.cc11b00ddfe94d36661c44435c7e7c04.jpg  \n",
      " extracting: valid/20-12-22-07-23-58-0362_jpg.rf.cc11b00ddfe94d36661c44435c7e7c04.xml  \n",
      " extracting: valid/20-12-22-07-25-15-0369_jpg.rf.628172135e8fbb8beb64c1926e461173.jpg  \n",
      " extracting: valid/20-12-22-07-25-15-0369_jpg.rf.628172135e8fbb8beb64c1926e461173.xml  \n",
      " extracting: valid/20-12-22-07-25-26-0370_jpg.rf.53546950d2e5c1c3ba38ba1c8737fdd5.jpg  \n",
      " extracting: valid/20-12-22-07-25-26-0370_jpg.rf.53546950d2e5c1c3ba38ba1c8737fdd5.xml  \n",
      " extracting: valid/20-12-22-07-25-45-0373_jpg.rf.248e29554e3b3c7ecaf7ea92e9c4d738.jpg  \n",
      " extracting: valid/20-12-22-07-25-45-0373_jpg.rf.248e29554e3b3c7ecaf7ea92e9c4d738.xml  \n",
      " extracting: valid/21-03-25-16-20-10-0710_jpg.rf.8fc03a19f39bc11a6e4795237322eb54.jpg  \n",
      " extracting: valid/21-03-25-16-20-10-0710_jpg.rf.8fc03a19f39bc11a6e4795237322eb54.xml  \n",
      " extracting: valid/21-03-25-16-23-25-0712_jpg.rf.78322091189e5f1a84e6e192c4a1497b.jpg  \n",
      " extracting: valid/21-03-25-16-23-25-0712_jpg.rf.78322091189e5f1a84e6e192c4a1497b.xml  \n",
      " extracting: valid/21-03-26-12-22-54-0742_jpg.rf.0ad1b7187f3969fc71423c39d69236b8.jpg  \n",
      " extracting: valid/21-03-26-12-22-54-0742_jpg.rf.0ad1b7187f3969fc71423c39d69236b8.xml  \n",
      " extracting: valid/21-03-26-12-23-57-0747_jpg.rf.1cd260f8ce7eb0f5a5b80fd30ea4f5d1.jpg  \n",
      " extracting: valid/21-03-26-12-23-57-0747_jpg.rf.1cd260f8ce7eb0f5a5b80fd30ea4f5d1.xml  \n",
      " extracting: valid/21-03-26-12-25-30-0752_jpg.rf.38601d5cdbbc689add74e82297e2ddb7.jpg  \n",
      " extracting: valid/21-03-26-12-25-30-0752_jpg.rf.38601d5cdbbc689add74e82297e2ddb7.xml  \n",
      " extracting: valid/21-03-26-12-25-42-0754_jpg.rf.8b8db0784d1b43356657e746f1809750.jpg  \n",
      " extracting: valid/21-03-26-12-25-42-0754_jpg.rf.8b8db0784d1b43356657e746f1809750.xml  \n",
      " extracting: valid/21-03-27-09-03-29-0765_jpg.rf.029470d3bb250beb491ae09187e548c6.jpg  \n",
      " extracting: valid/21-03-27-09-03-29-0765_jpg.rf.029470d3bb250beb491ae09187e548c6.xml  \n",
      " extracting: valid/21-03-27-09-03-38-0767_jpg.rf.5517f30f49028272c69953b7bc0cefb9.jpg  \n",
      " extracting: valid/21-03-27-09-03-38-0767_jpg.rf.5517f30f49028272c69953b7bc0cefb9.xml  \n",
      " extracting: valid/21-03-27-09-03-58-0774_jpg.rf.85373729dc2db0c3498496c779818df3.jpg  \n",
      " extracting: valid/21-03-27-09-03-58-0774_jpg.rf.85373729dc2db0c3498496c779818df3.xml  \n",
      " extracting: valid/21-03-27-09-04-10-0779_jpg.rf.96893ec6f6e34b79e6a02460f7ea3163.jpg  \n",
      " extracting: valid/21-03-27-09-04-10-0779_jpg.rf.96893ec6f6e34b79e6a02460f7ea3163.xml  \n",
      " extracting: valid/21-03-27-09-05-20-0780_jpg.rf.5170df71fd14d741de92fdb148133be0.jpg  \n",
      " extracting: valid/21-03-27-09-05-20-0780_jpg.rf.5170df71fd14d741de92fdb148133be0.xml  \n",
      " extracting: valid/21-03-27-09-05-49-0782_jpg.rf.9a8db3f6d569110c09138a3e9a83c3ea.jpg  \n",
      " extracting: valid/21-03-27-09-05-49-0782_jpg.rf.9a8db3f6d569110c09138a3e9a83c3ea.xml  \n",
      " extracting: valid/21-03-28-08-34-53-0785_jpg.rf.e081af1183782d29daad4ba92756e6d3.jpg  \n",
      " extracting: valid/21-03-28-08-34-53-0785_jpg.rf.e081af1183782d29daad4ba92756e6d3.xml  \n",
      " extracting: valid/21-03-28-13-42-58-0796_jpg.rf.14baaed9175b8e3ab883c69a1b8277bd.jpg  \n",
      " extracting: valid/21-03-28-13-42-58-0796_jpg.rf.14baaed9175b8e3ab883c69a1b8277bd.xml  \n",
      " extracting: valid/21-03-30-16-37-10-0809_jpg.rf.540fc605dd5c7e71867c50ac9aac408b.jpg  \n",
      " extracting: valid/21-03-30-16-37-10-0809_jpg.rf.540fc605dd5c7e71867c50ac9aac408b.xml  \n"
     ]
    }
   ],
   "source": [
    "!curl -L \"https://app.roboflow.com/ds/foo?key=bar\" > roboflow.zip; unzip roboflow.zip; rm roboflow.zip"
   ]
  },
  {
   "cell_type": "markdown",
   "metadata": {},
   "source": [
    "*Next*, we need to install ipywidgets; otherwise, detecto throws [this error](https://github.com/jupyter-widgets/ipywidgets/issues/2527). After installing the widget, you need to restart the notebook:"
   ]
  },
  {
   "cell_type": "code",
   "execution_count": 4,
   "metadata": {
    "gradient": {}
   },
   "outputs": [
    {
     "name": "stdout",
     "output_type": "stream",
     "text": [
      "\u001b[31mERROR: Could not find a version that satisfies the requirement ipywidget (from versions: none)\u001b[0m\n",
      "\u001b[31mERROR: No matching distribution found for ipywidget\u001b[0m\n"
     ]
    }
   ],
   "source": [
    "!pip install ipywidget"
   ]
  },
  {
   "cell_type": "code",
   "execution_count": 5,
   "metadata": {
    "gradient": {}
   },
   "outputs": [],
   "source": [
    "# Test that it works:\n",
    "from ipywidgets import IntProgress"
   ]
  },
  {
   "cell_type": "markdown",
   "metadata": {},
   "source": [
    "*Now* we're ready to prepare for life on Colab, Paperspace, or my home machine:"
   ]
  },
  {
   "cell_type": "code",
   "execution_count": 10,
   "metadata": {
    "gradient": {}
   },
   "outputs": [
    {
     "name": "stdout",
     "output_type": "stream",
     "text": [
      "I'm running on Paperspace\n"
     ]
    }
   ],
   "source": [
    "import os\n",
    "from pathlib import Path\n",
    "\n",
    "if 'COLAB_GPU' in os.environ:\n",
    "    print(\"I'm running on Colab\")\n",
    "    COLAB = True\n",
    "    from google.colab import drive\n",
    "    drive.mount('/content/gdrive')\n",
    "    dataset_root = Path('/content/gdrive/MyDrive/dishwasher_training_data/roboflow')\n",
    "elif 'PAPERSPACE_METRIC_WORKLOAD_TYPE' in os.environ:\n",
    "    print(\"I'm running on Paperspace\")\n",
    "    PAPERSPACE = True\n",
    "    dataset_root = Path('/notebooks') \n",
    "else:\n",
    "    print(\"Nope, running at home\")\n",
    "    COLAB = False\n",
    "    dataset_root = Path('/home/aardvark/dev/src/dishwasher_training_data/roboflow')\n",
    "\n",
    "training = dataset_root/'train/'\n",
    "test = dataset_root/'test'\n",
    "valid = dataset_root/'valid'"
   ]
  },
  {
   "cell_type": "markdown",
   "metadata": {},
   "source": [
    "Moving the utility functions up here in order to fribulate an incompletely-annotated dataset."
   ]
  },
  {
   "cell_type": "code",
   "execution_count": 11,
   "metadata": {
    "gradient": {}
   },
   "outputs": [],
   "source": [
    "# https://stackoverflow.com/questions/53317592/reading-pascal-voc-annotations-in-python\n",
    "import xml.etree.ElementTree as ET\n",
    "\n",
    "# TODO: Misleading name, odd choice of things to return\n",
    "# TODO: Find a proper library for VOC stuff\n",
    "def read_bounding_box_and_labels(xml_file: str):\n",
    "    \"\"\"Get the bounding boxes and labels contained within a VOC XML file.\n",
    "    \"\"\"\n",
    "    tree = ET.parse(xml_file)\n",
    "    root = tree.getroot()\n",
    "\n",
    "    list_with_all_boxes = []\n",
    "    filename = root.find(\"filename\").text\n",
    "\n",
    "    for boxes in root.iter(\"object\"):\n",
    "\n",
    "\n",
    "        xmin, ymin, xmax, ymax = None, None, None, None\n",
    "\n",
    "        xmin = int(boxes.find(\"bndbox/xmin\").text)\n",
    "        ymin = int(boxes.find(\"bndbox/ymin\").text)\n",
    "        xmax = int(boxes.find(\"bndbox/xmax\").text)\n",
    "        ymax = int(boxes.find(\"bndbox/ymax\").text)\n",
    "        name = str(boxes.find(\"name\").text)\n",
    "\n",
    "        list_with_single_boxes = [xmin, ymin, xmax, ymax, name]\n",
    "        list_with_all_boxes.append(list_with_single_boxes)\n",
    "\n",
    "    return filename, list_with_all_boxes\n",
    "\n",
    "def get_unique_labels_from_xml_file(xml_file: str):\n",
    "    \"\"\"Return set() of unique labels from within a VOC XML file\n",
    "    \"\"\"\n",
    "    tree = ET.parse(xml_file)\n",
    "    root = tree.getroot()\n",
    "    unique_labels = set()\n",
    "\n",
    "    for boxes in root.iter(\"object\"):\n",
    "        name = boxes.find(\"name\").text\n",
    "        unique_labels.add(name)\n",
    "\n",
    "    return unique_labels\n",
    "        \n",
    "\n",
    "def get_unique_labels_from_directory(directory: str):\n",
    "    \"\"\"Return a list of unique labels from all VOC XML files in a given directory.\n",
    "    \"\"\"\n",
    "    dpath = Path(directory)\n",
    "    labels = set()\n",
    "    for f in dpath.glob(\"*xml\"):\n",
    "        new_set = get_unique_labels_from_xml_file(f)\n",
    "        labels |= new_set\n",
    "        \n",
    "    return list(labels)"
   ]
  },
  {
   "cell_type": "markdown",
   "metadata": {},
   "source": [
    "Next, let's create a training dataset.\n",
    "\n",
    "**Note:** [Detecto's quickstart](https://detecto.readthedocs.io/en/latest/usage/quickstart.html) says that you can split data into training & validation folders; however, that does not appear to work for me, and [this docstring](https://github.com/alankbi/detecto/blob/2a22bb660af0c78b9ba7df643afb8dce62b8894c/detecto/core.py#L440-L447) for `Model.fit()` uses the approach I use below (separate datasets for each purpose)."
   ]
  },
  {
   "cell_type": "code",
   "execution_count": 30,
   "metadata": {
    "gradient": {}
   },
   "outputs": [
    {
     "name": "stdout",
     "output_type": "stream",
     "text": [
      "Fribulating dataset!\n",
      "Fribul count: 0 / 102\n",
      "Fribul count: 14 / 25\n"
     ]
    }
   ],
   "source": [
    "from detecto.core import Dataset, DataLoader\n",
    "\n",
    "def fribulate_dataset(directory: str):\n",
    "    \"\"\"Remove images which don't seem to be annotated.\n",
    "    \"\"\"\n",
    "    dpath = Path(directory)\n",
    "    fribul_count = 0\n",
    "    all_count = 0\n",
    "    for f in dpath.glob(\"*xml\"):\n",
    "        all_count += 1\n",
    "        img_filename, boxes = read_bounding_box_and_labels(f)\n",
    "        if len(boxes) == 0:\n",
    "            fribul_count += 1\n",
    "            os.remove(dpath/img_filename)\n",
    "            os.remove(dpath/f)\n",
    "    print(f\"Fribul count: {fribul_count} / {all_count}\")\n",
    "        \n",
    "\n",
    "# I've got some images here that have not been annotated yet, so going to try rebuilding things to avoid those.\n",
    "# If I don't, then I run into exceptions when trying to train the data, or otherwise access members of the dataset. -___-\n",
    "FRIBULATE_DATASET = True\n",
    "\n",
    "if FRIBULATE_DATASET is True:\n",
    "    print(\"Fribulating dataset!\")\n",
    "    fribulate_dataset(training)\n",
    "    fribulate_dataset(valid)\n",
    "            \n",
    "training_dataset = Dataset(str(training))\n",
    "validation_dataset = Dataset(str(valid))      "
   ]
  },
  {
   "cell_type": "markdown",
   "metadata": {},
   "source": [
    "Let's make sure a training image looks good:"
   ]
  },
  {
   "cell_type": "code",
   "execution_count": 31,
   "metadata": {
    "gradient": {}
   },
   "outputs": [
    {
     "data": {
      "image/png": "[encoded data removed]",
      "text/plain": [
       "<Figure size 432x288 with 1 Axes>"
      ]
     },
     "metadata": {
      "needs_background": "light"
     },
     "output_type": "display_data"
    }
   ],
   "source": [
    "from detecto.visualize import show_labeled_image\n",
    "\n",
    "image, targets = training_dataset[0]\n",
    "show_labeled_image(image, targets['boxes'], targets['labels'])"
   ]
  },
  {
   "cell_type": "markdown",
   "metadata": {},
   "source": [
    "Because I can never remember what I've labelled (still working on this discipline!), I'm including some code here to figure out the labels by examining the VOC files."
   ]
  },
  {
   "cell_type": "code",
   "execution_count": 14,
   "metadata": {
    "gradient": {}
   },
   "outputs": [
    {
     "data": {
      "text/plain": [
       "['cup', 'mug', 'plate', 'bowl', 'mixing bowl', 'pot lid', 'pot']"
      ]
     },
     "execution_count": 14,
     "metadata": {},
     "output_type": "execute_result"
    }
   ],
   "source": [
    "labels = get_unique_labels_from_directory(training)\n",
    "labels"
   ]
  },
  {
   "cell_type": "markdown",
   "metadata": {},
   "source": [
    "Now let's try training.\n",
    "\n",
    "(Damn: should have done this:\n",
    "\n",
    "```python\n",
    "val_dataset = Dataset('validation_dataset/')\n",
    "losses = model.fit(dataset, val_dataset, epochs=15, learning_rate=0.01,\n",
    "                   gamma=0.2, lr_step_size=5, verbose=True)\n",
    "\n",
    "plt.plot(losses)\n",
    "plt.show()\n",
    "```"
   ]
  },
  {
   "cell_type": "code",
   "execution_count": 33,
   "metadata": {},
   "outputs": [
    {
     "name": "stderr",
     "output_type": "stream",
     "text": [
      "  0%|          | 0/102 [00:00<?, ?it/s]"
     ]
    },
    {
     "name": "stdout",
     "output_type": "stream",
     "text": [
      "Epoch 1 of 15\n",
      "Begin iterating over training dataset\n"
     ]
    },
    {
     "name": "stderr",
     "output_type": "stream",
     "text": [
      "100%|██████████| 102/102 [00:41<00:00,  2.45it/s]\n",
      "  0%|          | 0/11 [00:00<?, ?it/s]"
     ]
    },
    {
     "name": "stdout",
     "output_type": "stream",
     "text": [
      "Begin iterating over validation dataset\n"
     ]
    },
    {
     "name": "stderr",
     "output_type": "stream",
     "text": [
      "100%|██████████| 11/11 [00:02<00:00,  4.70it/s]\n",
      "  0%|          | 0/102 [00:00<?, ?it/s]"
     ]
    },
    {
     "name": "stdout",
     "output_type": "stream",
     "text": [
      "Loss: nan\n",
      "Epoch 2 of 15\n",
      "Begin iterating over training dataset\n"
     ]
    },
    {
     "name": "stderr",
     "output_type": "stream",
     "text": [
      "100%|██████████| 102/102 [00:41<00:00,  2.48it/s]\n",
      "  0%|          | 0/11 [00:00<?, ?it/s]"
     ]
    },
    {
     "name": "stdout",
     "output_type": "stream",
     "text": [
      "Begin iterating over validation dataset\n"
     ]
    },
    {
     "name": "stderr",
     "output_type": "stream",
     "text": [
      "100%|██████████| 11/11 [00:02<00:00,  4.71it/s]\n",
      "  0%|          | 0/102 [00:00<?, ?it/s]"
     ]
    },
    {
     "name": "stdout",
     "output_type": "stream",
     "text": [
      "Loss: nan\n",
      "Epoch 3 of 15\n",
      "Begin iterating over training dataset\n"
     ]
    },
    {
     "name": "stderr",
     "output_type": "stream",
     "text": [
      "100%|██████████| 102/102 [00:41<00:00,  2.45it/s]\n",
      "  0%|          | 0/11 [00:00<?, ?it/s]"
     ]
    },
    {
     "name": "stdout",
     "output_type": "stream",
     "text": [
      "Begin iterating over validation dataset\n"
     ]
    },
    {
     "name": "stderr",
     "output_type": "stream",
     "text": [
      "100%|██████████| 11/11 [00:02<00:00,  4.80it/s]\n",
      "  0%|          | 0/102 [00:00<?, ?it/s]"
     ]
    },
    {
     "name": "stdout",
     "output_type": "stream",
     "text": [
      "Loss: nan\n",
      "Epoch 4 of 15\n",
      "Begin iterating over training dataset\n"
     ]
    },
    {
     "name": "stderr",
     "output_type": "stream",
     "text": [
      "100%|██████████| 102/102 [00:41<00:00,  2.47it/s]\n",
      "  0%|          | 0/11 [00:00<?, ?it/s]"
     ]
    },
    {
     "name": "stdout",
     "output_type": "stream",
     "text": [
      "Begin iterating over validation dataset\n"
     ]
    },
    {
     "name": "stderr",
     "output_type": "stream",
     "text": [
      "100%|██████████| 11/11 [00:02<00:00,  4.74it/s]\n",
      "  0%|          | 0/102 [00:00<?, ?it/s]"
     ]
    },
    {
     "name": "stdout",
     "output_type": "stream",
     "text": [
      "Loss: nan\n",
      "Epoch 5 of 15\n",
      "Begin iterating over training dataset\n"
     ]
    },
    {
     "name": "stderr",
     "output_type": "stream",
     "text": [
      "100%|██████████| 102/102 [00:41<00:00,  2.47it/s]\n",
      "  0%|          | 0/11 [00:00<?, ?it/s]"
     ]
    },
    {
     "name": "stdout",
     "output_type": "stream",
     "text": [
      "Begin iterating over validation dataset\n"
     ]
    },
    {
     "name": "stderr",
     "output_type": "stream",
     "text": [
      "100%|██████████| 11/11 [00:02<00:00,  4.61it/s]\n",
      "  0%|          | 0/102 [00:00<?, ?it/s]"
     ]
    },
    {
     "name": "stdout",
     "output_type": "stream",
     "text": [
      "Loss: nan\n",
      "Epoch 6 of 15\n",
      "Begin iterating over training dataset\n"
     ]
    },
    {
     "name": "stderr",
     "output_type": "stream",
     "text": [
      "100%|██████████| 102/102 [00:44<00:00,  2.31it/s]\n",
      "  0%|          | 0/11 [00:00<?, ?it/s]"
     ]
    },
    {
     "name": "stdout",
     "output_type": "stream",
     "text": [
      "Begin iterating over validation dataset\n"
     ]
    },
    {
     "name": "stderr",
     "output_type": "stream",
     "text": [
      "100%|██████████| 11/11 [00:02<00:00,  4.90it/s]\n",
      "  0%|          | 0/102 [00:00<?, ?it/s]"
     ]
    },
    {
     "name": "stdout",
     "output_type": "stream",
     "text": [
      "Loss: nan\n",
      "Epoch 7 of 15\n",
      "Begin iterating over training dataset\n"
     ]
    },
    {
     "name": "stderr",
     "output_type": "stream",
     "text": [
      "100%|██████████| 102/102 [00:43<00:00,  2.37it/s]\n",
      "  0%|          | 0/11 [00:00<?, ?it/s]"
     ]
    },
    {
     "name": "stdout",
     "output_type": "stream",
     "text": [
      "Begin iterating over validation dataset\n"
     ]
    },
    {
     "name": "stderr",
     "output_type": "stream",
     "text": [
      "100%|██████████| 11/11 [00:02<00:00,  4.82it/s]\n",
      "  0%|          | 0/102 [00:00<?, ?it/s]"
     ]
    },
    {
     "name": "stdout",
     "output_type": "stream",
     "text": [
      "Loss: nan\n",
      "Epoch 8 of 15\n",
      "Begin iterating over training dataset\n"
     ]
    },
    {
     "name": "stderr",
     "output_type": "stream",
     "text": [
      "100%|██████████| 102/102 [00:42<00:00,  2.41it/s]\n",
      "  0%|          | 0/11 [00:00<?, ?it/s]"
     ]
    },
    {
     "name": "stdout",
     "output_type": "stream",
     "text": [
      "Begin iterating over validation dataset\n"
     ]
    },
    {
     "name": "stderr",
     "output_type": "stream",
     "text": [
      "100%|██████████| 11/11 [00:02<00:00,  4.73it/s]\n",
      "  0%|          | 0/102 [00:00<?, ?it/s]"
     ]
    },
    {
     "name": "stdout",
     "output_type": "stream",
     "text": [
      "Loss: nan\n",
      "Epoch 9 of 15\n",
      "Begin iterating over training dataset\n"
     ]
    },
    {
     "name": "stderr",
     "output_type": "stream",
     "text": [
      "100%|██████████| 102/102 [00:44<00:00,  2.30it/s]\n",
      "  0%|          | 0/11 [00:00<?, ?it/s]"
     ]
    },
    {
     "name": "stdout",
     "output_type": "stream",
     "text": [
      "Begin iterating over validation dataset\n"
     ]
    },
    {
     "name": "stderr",
     "output_type": "stream",
     "text": [
      "100%|██████████| 11/11 [00:02<00:00,  4.65it/s]\n",
      "  0%|          | 0/102 [00:00<?, ?it/s]"
     ]
    },
    {
     "name": "stdout",
     "output_type": "stream",
     "text": [
      "Loss: nan\n",
      "Epoch 10 of 15\n",
      "Begin iterating over training dataset\n"
     ]
    },
    {
     "name": "stderr",
     "output_type": "stream",
     "text": [
      "100%|██████████| 102/102 [00:42<00:00,  2.42it/s]\n",
      "  0%|          | 0/11 [00:00<?, ?it/s]"
     ]
    },
    {
     "name": "stdout",
     "output_type": "stream",
     "text": [
      "Begin iterating over validation dataset\n"
     ]
    },
    {
     "name": "stderr",
     "output_type": "stream",
     "text": [
      "100%|██████████| 11/11 [00:02<00:00,  4.78it/s]\n",
      "  0%|          | 0/102 [00:00<?, ?it/s]"
     ]
    },
    {
     "name": "stdout",
     "output_type": "stream",
     "text": [
      "Loss: nan\n",
      "Epoch 11 of 15\n",
      "Begin iterating over training dataset\n"
     ]
    },
    {
     "name": "stderr",
     "output_type": "stream",
     "text": [
      "100%|██████████| 102/102 [00:42<00:00,  2.38it/s]\n",
      "  0%|          | 0/11 [00:00<?, ?it/s]"
     ]
    },
    {
     "name": "stdout",
     "output_type": "stream",
     "text": [
      "Begin iterating over validation dataset\n"
     ]
    },
    {
     "name": "stderr",
     "output_type": "stream",
     "text": [
      "100%|██████████| 11/11 [00:02<00:00,  4.95it/s]\n",
      "  0%|          | 0/102 [00:00<?, ?it/s]"
     ]
    },
    {
     "name": "stdout",
     "output_type": "stream",
     "text": [
      "Loss: nan\n",
      "Epoch 12 of 15\n",
      "Begin iterating over training dataset\n"
     ]
    },
    {
     "name": "stderr",
     "output_type": "stream",
     "text": [
      "100%|██████████| 102/102 [00:42<00:00,  2.42it/s]\n",
      "  0%|          | 0/11 [00:00<?, ?it/s]"
     ]
    },
    {
     "name": "stdout",
     "output_type": "stream",
     "text": [
      "Begin iterating over validation dataset\n"
     ]
    },
    {
     "name": "stderr",
     "output_type": "stream",
     "text": [
      "100%|██████████| 11/11 [00:02<00:00,  4.70it/s]\n",
      "  0%|          | 0/102 [00:00<?, ?it/s]"
     ]
    },
    {
     "name": "stdout",
     "output_type": "stream",
     "text": [
      "Loss: nan\n",
      "Epoch 13 of 15\n",
      "Begin iterating over training dataset\n"
     ]
    },
    {
     "name": "stderr",
     "output_type": "stream",
     "text": [
      "100%|██████████| 102/102 [00:42<00:00,  2.41it/s]\n",
      "  0%|          | 0/11 [00:00<?, ?it/s]"
     ]
    },
    {
     "name": "stdout",
     "output_type": "stream",
     "text": [
      "Begin iterating over validation dataset\n"
     ]
    },
    {
     "name": "stderr",
     "output_type": "stream",
     "text": [
      "100%|██████████| 11/11 [00:02<00:00,  4.81it/s]\n",
      "  0%|          | 0/102 [00:00<?, ?it/s]"
     ]
    },
    {
     "name": "stdout",
     "output_type": "stream",
     "text": [
      "Loss: nan\n",
      "Epoch 14 of 15\n",
      "Begin iterating over training dataset\n"
     ]
    },
    {
     "name": "stderr",
     "output_type": "stream",
     "text": [
      "100%|██████████| 102/102 [00:42<00:00,  2.42it/s]\n",
      "  0%|          | 0/11 [00:00<?, ?it/s]"
     ]
    },
    {
     "name": "stdout",
     "output_type": "stream",
     "text": [
      "Begin iterating over validation dataset\n"
     ]
    },
    {
     "name": "stderr",
     "output_type": "stream",
     "text": [
      "100%|██████████| 11/11 [00:02<00:00,  4.81it/s]\n",
      "  0%|          | 0/102 [00:00<?, ?it/s]"
     ]
    },
    {
     "name": "stdout",
     "output_type": "stream",
     "text": [
      "Loss: nan\n",
      "Epoch 15 of 15\n",
      "Begin iterating over training dataset\n"
     ]
    },
    {
     "name": "stderr",
     "output_type": "stream",
     "text": [
      "100%|██████████| 102/102 [00:41<00:00,  2.44it/s]\n",
      "  0%|          | 0/11 [00:00<?, ?it/s]"
     ]
    },
    {
     "name": "stdout",
     "output_type": "stream",
     "text": [
      "Begin iterating over validation dataset\n"
     ]
    },
    {
     "name": "stderr",
     "output_type": "stream",
     "text": [
      "100%|██████████| 11/11 [00:02<00:00,  5.05it/s]"
     ]
    },
    {
     "name": "stdout",
     "output_type": "stream",
     "text": [
      "Loss: nan\n"
     ]
    },
    {
     "name": "stderr",
     "output_type": "stream",
     "text": [
      "\n"
     ]
    },
    {
     "ename": "NameError",
     "evalue": "name 'plt' is not defined",
     "output_type": "error",
     "traceback": [
      "\u001b[0;31m---------------------------------------------------------------------------\u001b[0m",
      "\u001b[0;31mNameError\u001b[0m                                 Traceback (most recent call last)",
      "\u001b[0;32m<ipython-input-33-4cc2c04c2cb0>\u001b[0m in \u001b[0;36m<module>\u001b[0;34m\u001b[0m\n\u001b[1;32m      2\u001b[0m                    gamma=0.2, lr_step_size=5, verbose=True)\n\u001b[1;32m      3\u001b[0m \u001b[0;34m\u001b[0m\u001b[0m\n\u001b[0;32m----> 4\u001b[0;31m \u001b[0mplt\u001b[0m\u001b[0;34m.\u001b[0m\u001b[0mplot\u001b[0m\u001b[0;34m(\u001b[0m\u001b[0mlosses\u001b[0m\u001b[0;34m)\u001b[0m\u001b[0;34m\u001b[0m\u001b[0;34m\u001b[0m\u001b[0m\n\u001b[0m\u001b[1;32m      5\u001b[0m \u001b[0mplt\u001b[0m\u001b[0;34m.\u001b[0m\u001b[0mshow\u001b[0m\u001b[0;34m(\u001b[0m\u001b[0;34m)\u001b[0m\u001b[0;34m\u001b[0m\u001b[0;34m\u001b[0m\u001b[0m\n",
      "\u001b[0;31mNameError\u001b[0m: name 'plt' is not defined"
     ]
    }
   ],
   "source": [
    "losses = model.fit(training_dataset, validation_dataset, epochs=15, learning_rate=0.01,\n",
    "                   gamma=0.2, lr_step_size=5, verbose=True)\n",
    "\n",
    "plt.plot(losses)\n",
    "plt.show()"
   ]
  },
  {
   "cell_type": "code",
   "execution_count": 15,
   "metadata": {
    "gradient": {},
    "scrolled": true
   },
   "outputs": [
    {
     "name": "stderr",
     "output_type": "stream",
     "text": [
      "  0%|          | 0/102 [00:00<?, ?it/s]"
     ]
    },
    {
     "name": "stdout",
     "output_type": "stream",
     "text": [
      "Epoch 1 of 10\n",
      "Begin iterating over training dataset\n"
     ]
    },
    {
     "name": "stderr",
     "output_type": "stream",
     "text": [
      "100%|██████████| 102/102 [00:43<00:00,  2.34it/s]\n",
      "  0%|          | 0/102 [00:00<?, ?it/s]"
     ]
    },
    {
     "name": "stdout",
     "output_type": "stream",
     "text": [
      "Epoch 2 of 10\n",
      "Begin iterating over training dataset\n"
     ]
    },
    {
     "name": "stderr",
     "output_type": "stream",
     "text": [
      "100%|██████████| 102/102 [00:41<00:00,  2.47it/s]\n",
      "  0%|          | 0/102 [00:00<?, ?it/s]"
     ]
    },
    {
     "name": "stdout",
     "output_type": "stream",
     "text": [
      "Epoch 3 of 10\n",
      "Begin iterating over training dataset\n"
     ]
    },
    {
     "name": "stderr",
     "output_type": "stream",
     "text": [
      "100%|██████████| 102/102 [00:41<00:00,  2.46it/s]\n",
      "  0%|          | 0/102 [00:00<?, ?it/s]"
     ]
    },
    {
     "name": "stdout",
     "output_type": "stream",
     "text": [
      "Epoch 4 of 10\n",
      "Begin iterating over training dataset\n"
     ]
    },
    {
     "name": "stderr",
     "output_type": "stream",
     "text": [
      "100%|██████████| 102/102 [00:41<00:00,  2.47it/s]\n",
      "  0%|          | 0/102 [00:00<?, ?it/s]"
     ]
    },
    {
     "name": "stdout",
     "output_type": "stream",
     "text": [
      "Epoch 5 of 10\n",
      "Begin iterating over training dataset\n"
     ]
    },
    {
     "name": "stderr",
     "output_type": "stream",
     "text": [
      "100%|██████████| 102/102 [00:41<00:00,  2.46it/s]\n",
      "  0%|          | 0/102 [00:00<?, ?it/s]"
     ]
    },
    {
     "name": "stdout",
     "output_type": "stream",
     "text": [
      "Epoch 6 of 10\n",
      "Begin iterating over training dataset\n"
     ]
    },
    {
     "name": "stderr",
     "output_type": "stream",
     "text": [
      "100%|██████████| 102/102 [00:41<00:00,  2.47it/s]\n",
      "  0%|          | 0/102 [00:00<?, ?it/s]"
     ]
    },
    {
     "name": "stdout",
     "output_type": "stream",
     "text": [
      "Epoch 7 of 10\n",
      "Begin iterating over training dataset\n"
     ]
    },
    {
     "name": "stderr",
     "output_type": "stream",
     "text": [
      "100%|██████████| 102/102 [00:41<00:00,  2.45it/s]\n",
      "  0%|          | 0/102 [00:00<?, ?it/s]"
     ]
    },
    {
     "name": "stdout",
     "output_type": "stream",
     "text": [
      "Epoch 8 of 10\n",
      "Begin iterating over training dataset\n"
     ]
    },
    {
     "name": "stderr",
     "output_type": "stream",
     "text": [
      "100%|██████████| 102/102 [00:41<00:00,  2.47it/s]\n",
      "  0%|          | 0/102 [00:00<?, ?it/s]"
     ]
    },
    {
     "name": "stdout",
     "output_type": "stream",
     "text": [
      "Epoch 9 of 10\n",
      "Begin iterating over training dataset\n"
     ]
    },
    {
     "name": "stderr",
     "output_type": "stream",
     "text": [
      "100%|██████████| 102/102 [00:41<00:00,  2.45it/s]\n",
      "  0%|          | 0/102 [00:00<?, ?it/s]"
     ]
    },
    {
     "name": "stdout",
     "output_type": "stream",
     "text": [
      "Epoch 10 of 10\n",
      "Begin iterating over training dataset\n"
     ]
    },
    {
     "name": "stderr",
     "output_type": "stream",
     "text": [
      "100%|██████████| 102/102 [00:41<00:00,  2.47it/s]\n"
     ]
    }
   ],
   "source": [
    "from detecto.core import DataLoader, Model\n",
    "\n",
    "model = Model(labels)\n",
    "model.fit(training_dataset, verbose=True)"
   ]
  },
  {
   "cell_type": "markdown",
   "metadata": {},
   "source": [
    "Okay, model trained (though I forgot the verification dataset, DOH).  Let's see if we can get some predictions with our test dataset:"
   ]
  },
  {
   "cell_type": "code",
   "execution_count": 16,
   "metadata": {
    "gradient": {}
   },
   "outputs": [
    {
     "data": {
      "text/plain": [
       "[PosixPath('/notebooks/test/21-03-27-09-03-44-0769_jpg.rf.5f98309b40f02bdfe85d25c2e5955f3c.jpg'),\n",
       " PosixPath('/notebooks/test/21-03-26-12-22-40-0740_jpg.rf.b8e06be4021a69f49055d79a1860845c.jpg'),\n",
       " PosixPath('/notebooks/test/20-11-30-06-46-08-0275_jpg.rf.adf2988ed6e6b2b0b8c59e6dc2e4565a.jpg'),\n",
       " PosixPath('/notebooks/test/20-11-30-07-38-01-0278_jpg.rf.1ec13129ff0ab0851d9c8091bb1c69c4.jpg'),\n",
       " PosixPath('/notebooks/test/21-03-25-18-48-35-0721_jpg.rf.de5a296d161b7f4848a5c15e61bb17ea.jpg'),\n",
       " PosixPath('/notebooks/test/20-09-09-06-51-19-9754_jpg.rf.e60419bcdc9ed39569ebd7cc67df49cf.jpg'),\n",
       " PosixPath('/notebooks/test/21-03-29-18-41-11-0805_jpg.rf.e982197486b2a83c23c0d9563555a4d8.jpg'),\n",
       " PosixPath('/notebooks/test/21-03-26-12-22-26-0737_jpg.rf.fcb9e594be7e16f6d7e87edc0a91935f.jpg'),\n",
       " PosixPath('/notebooks/test/21-03-26-12-25-57-0755_jpg.rf.c0b28f4fd73c7b50652d3eff4bdd6613.jpg'),\n",
       " PosixPath('/notebooks/test/21-03-27-09-03-50-0771_jpg.rf.d0ffb31fb0116e697be6266656585ee1.jpg'),\n",
       " PosixPath('/notebooks/test/21-03-30-16-37-19-0810_jpg.rf.3fb9318c481020da18d56fcdef44780b.jpg'),\n",
       " PosixPath('/notebooks/test/20-12-22-07-24-10-0363_jpg.rf.46854af46064f9ab9ce7de0806403e99.jpg'),\n",
       " PosixPath('/notebooks/test/20-12-20-12-44-35-0357_jpg.rf.bb8edf932117c95bf2fea4efeefb83d8.jpg')]"
      ]
     },
     "execution_count": 16,
     "metadata": {},
     "output_type": "execute_result"
    }
   ],
   "source": [
    "all_test_imgs = []\n",
    "\n",
    "for i in test.glob(\"*jpg\"):\n",
    "    all_test_imgs.append(i)\n",
    "\n",
    "all_test_imgs"
   ]
  },
  {
   "cell_type": "code",
   "execution_count": 34,
   "metadata": {
    "collapsed": true,
    "gradient": {},
    "jupyter": {
     "outputs_hidden": true
    }
   },
   "outputs": [
    {
     "ename": "RuntimeError",
     "evalue": "cannot reshape tensor of 0 elements into shape [0, -1] because the unspecified dimension size -1 can be any value and is ambiguous",
     "output_type": "error",
     "traceback": [
      "\u001b[0;31m---------------------------------------------------------------------------\u001b[0m",
      "\u001b[0;31mRuntimeError\u001b[0m                              Traceback (most recent call last)",
      "\u001b[0;32m<ipython-input-34-92bb9e93537b>\u001b[0m in \u001b[0;36m<module>\u001b[0;34m\u001b[0m\n\u001b[1;32m      2\u001b[0m \u001b[0mtest_image\u001b[0m \u001b[0;34m=\u001b[0m \u001b[0mread_image\u001b[0m\u001b[0;34m(\u001b[0m\u001b[0mstr\u001b[0m\u001b[0;34m(\u001b[0m\u001b[0mall_test_imgs\u001b[0m\u001b[0;34m[\u001b[0m\u001b[0;36m1\u001b[0m\u001b[0;34m]\u001b[0m\u001b[0;34m)\u001b[0m\u001b[0;34m)\u001b[0m\u001b[0;34m\u001b[0m\u001b[0;34m\u001b[0m\u001b[0m\n\u001b[1;32m      3\u001b[0m \u001b[0;34m\u001b[0m\u001b[0m\n\u001b[0;32m----> 4\u001b[0;31m \u001b[0mpredicted_labels\u001b[0m\u001b[0;34m,\u001b[0m \u001b[0mpredicted_boxes\u001b[0m\u001b[0;34m,\u001b[0m \u001b[0mpredicted_confidence\u001b[0m \u001b[0;34m=\u001b[0m \u001b[0mmodel\u001b[0m\u001b[0;34m.\u001b[0m\u001b[0mpredict_top\u001b[0m\u001b[0;34m(\u001b[0m\u001b[0mtest_image\u001b[0m\u001b[0;34m)\u001b[0m\u001b[0;34m\u001b[0m\u001b[0;34m\u001b[0m\u001b[0m\n\u001b[0m",
      "\u001b[0;32m/opt/conda/lib/python3.8/site-packages/detecto/core.py\u001b[0m in \u001b[0;36mpredict_top\u001b[0;34m(self, images)\u001b[0m\n\u001b[1;32m    386\u001b[0m         \"\"\"\n\u001b[1;32m    387\u001b[0m \u001b[0;34m\u001b[0m\u001b[0m\n\u001b[0;32m--> 388\u001b[0;31m         \u001b[0mpredictions\u001b[0m \u001b[0;34m=\u001b[0m \u001b[0mself\u001b[0m\u001b[0;34m.\u001b[0m\u001b[0mpredict\u001b[0m\u001b[0;34m(\u001b[0m\u001b[0mimages\u001b[0m\u001b[0;34m)\u001b[0m\u001b[0;34m\u001b[0m\u001b[0;34m\u001b[0m\u001b[0m\n\u001b[0m\u001b[1;32m    389\u001b[0m \u001b[0;34m\u001b[0m\u001b[0m\n\u001b[1;32m    390\u001b[0m         \u001b[0;31m# If tuple but not list, then images is a single image\u001b[0m\u001b[0;34m\u001b[0m\u001b[0;34m\u001b[0m\u001b[0;34m\u001b[0m\u001b[0m\n",
      "\u001b[0;32m/opt/conda/lib/python3.8/site-packages/detecto/core.py\u001b[0m in \u001b[0;36mpredict\u001b[0;34m(self, images)\u001b[0m\n\u001b[1;32m    338\u001b[0m         \u001b[0mis_single_image\u001b[0m \u001b[0;34m=\u001b[0m \u001b[0;32mnot\u001b[0m \u001b[0m_is_iterable\u001b[0m\u001b[0;34m(\u001b[0m\u001b[0mimages\u001b[0m\u001b[0;34m)\u001b[0m\u001b[0;34m\u001b[0m\u001b[0;34m\u001b[0m\u001b[0m\n\u001b[1;32m    339\u001b[0m         \u001b[0mimages\u001b[0m \u001b[0;34m=\u001b[0m \u001b[0;34m[\u001b[0m\u001b[0mimages\u001b[0m\u001b[0;34m]\u001b[0m \u001b[0;32mif\u001b[0m \u001b[0mis_single_image\u001b[0m \u001b[0;32melse\u001b[0m \u001b[0mimages\u001b[0m\u001b[0;34m\u001b[0m\u001b[0;34m\u001b[0m\u001b[0m\n\u001b[0;32m--> 340\u001b[0;31m         \u001b[0mpreds\u001b[0m \u001b[0;34m=\u001b[0m \u001b[0mself\u001b[0m\u001b[0;34m.\u001b[0m\u001b[0m_get_raw_predictions\u001b[0m\u001b[0;34m(\u001b[0m\u001b[0mimages\u001b[0m\u001b[0;34m)\u001b[0m\u001b[0;34m\u001b[0m\u001b[0;34m\u001b[0m\u001b[0m\n\u001b[0m\u001b[1;32m    341\u001b[0m \u001b[0;34m\u001b[0m\u001b[0m\n\u001b[1;32m    342\u001b[0m         \u001b[0mresults\u001b[0m \u001b[0;34m=\u001b[0m \u001b[0;34m[\u001b[0m\u001b[0;34m]\u001b[0m\u001b[0;34m\u001b[0m\u001b[0;34m\u001b[0m\u001b[0m\n",
      "\u001b[0;32m/opt/conda/lib/python3.8/site-packages/detecto/core.py\u001b[0m in \u001b[0;36m_get_raw_predictions\u001b[0;34m(self, images)\u001b[0m\n\u001b[1;32m    294\u001b[0m             \u001b[0mimages\u001b[0m \u001b[0;34m=\u001b[0m \u001b[0;34m[\u001b[0m\u001b[0mimg\u001b[0m\u001b[0;34m.\u001b[0m\u001b[0mto\u001b[0m\u001b[0;34m(\u001b[0m\u001b[0mself\u001b[0m\u001b[0;34m.\u001b[0m\u001b[0m_device\u001b[0m\u001b[0;34m)\u001b[0m \u001b[0;32mfor\u001b[0m \u001b[0mimg\u001b[0m \u001b[0;32min\u001b[0m \u001b[0mimages\u001b[0m\u001b[0;34m]\u001b[0m\u001b[0;34m\u001b[0m\u001b[0;34m\u001b[0m\u001b[0m\n\u001b[1;32m    295\u001b[0m \u001b[0;34m\u001b[0m\u001b[0m\n\u001b[0;32m--> 296\u001b[0;31m             \u001b[0mpreds\u001b[0m \u001b[0;34m=\u001b[0m \u001b[0mself\u001b[0m\u001b[0;34m.\u001b[0m\u001b[0m_model\u001b[0m\u001b[0;34m(\u001b[0m\u001b[0mimages\u001b[0m\u001b[0;34m)\u001b[0m\u001b[0;34m\u001b[0m\u001b[0;34m\u001b[0m\u001b[0m\n\u001b[0m\u001b[1;32m    297\u001b[0m             \u001b[0;31m# Send predictions to CPU if not already\u001b[0m\u001b[0;34m\u001b[0m\u001b[0;34m\u001b[0m\u001b[0;34m\u001b[0m\u001b[0m\n\u001b[1;32m    298\u001b[0m             \u001b[0mpreds\u001b[0m \u001b[0;34m=\u001b[0m \u001b[0;34m[\u001b[0m\u001b[0;34m{\u001b[0m\u001b[0mk\u001b[0m\u001b[0;34m:\u001b[0m \u001b[0mv\u001b[0m\u001b[0;34m.\u001b[0m\u001b[0mto\u001b[0m\u001b[0;34m(\u001b[0m\u001b[0mtorch\u001b[0m\u001b[0;34m.\u001b[0m\u001b[0mdevice\u001b[0m\u001b[0;34m(\u001b[0m\u001b[0;34m'cpu'\u001b[0m\u001b[0;34m)\u001b[0m\u001b[0;34m)\u001b[0m \u001b[0;32mfor\u001b[0m \u001b[0mk\u001b[0m\u001b[0;34m,\u001b[0m \u001b[0mv\u001b[0m \u001b[0;32min\u001b[0m \u001b[0mp\u001b[0m\u001b[0;34m.\u001b[0m\u001b[0mitems\u001b[0m\u001b[0;34m(\u001b[0m\u001b[0;34m)\u001b[0m\u001b[0;34m}\u001b[0m \u001b[0;32mfor\u001b[0m \u001b[0mp\u001b[0m \u001b[0;32min\u001b[0m \u001b[0mpreds\u001b[0m\u001b[0;34m]\u001b[0m\u001b[0;34m\u001b[0m\u001b[0;34m\u001b[0m\u001b[0m\n",
      "\u001b[0;32m/opt/conda/lib/python3.8/site-packages/torch/nn/modules/module.py\u001b[0m in \u001b[0;36m_call_impl\u001b[0;34m(self, *input, **kwargs)\u001b[0m\n\u001b[1;32m    879\u001b[0m             \u001b[0mresult\u001b[0m \u001b[0;34m=\u001b[0m \u001b[0mself\u001b[0m\u001b[0;34m.\u001b[0m\u001b[0m_slow_forward\u001b[0m\u001b[0;34m(\u001b[0m\u001b[0;34m*\u001b[0m\u001b[0minput\u001b[0m\u001b[0;34m,\u001b[0m \u001b[0;34m**\u001b[0m\u001b[0mkwargs\u001b[0m\u001b[0;34m)\u001b[0m\u001b[0;34m\u001b[0m\u001b[0;34m\u001b[0m\u001b[0m\n\u001b[1;32m    880\u001b[0m         \u001b[0;32melse\u001b[0m\u001b[0;34m:\u001b[0m\u001b[0;34m\u001b[0m\u001b[0;34m\u001b[0m\u001b[0m\n\u001b[0;32m--> 881\u001b[0;31m             \u001b[0mresult\u001b[0m \u001b[0;34m=\u001b[0m \u001b[0mself\u001b[0m\u001b[0;34m.\u001b[0m\u001b[0mforward\u001b[0m\u001b[0;34m(\u001b[0m\u001b[0;34m*\u001b[0m\u001b[0minput\u001b[0m\u001b[0;34m,\u001b[0m \u001b[0;34m**\u001b[0m\u001b[0mkwargs\u001b[0m\u001b[0;34m)\u001b[0m\u001b[0;34m\u001b[0m\u001b[0;34m\u001b[0m\u001b[0m\n\u001b[0m\u001b[1;32m    882\u001b[0m         for hook in itertools.chain(\n\u001b[1;32m    883\u001b[0m                 \u001b[0m_global_forward_hooks\u001b[0m\u001b[0;34m.\u001b[0m\u001b[0mvalues\u001b[0m\u001b[0;34m(\u001b[0m\u001b[0;34m)\u001b[0m\u001b[0;34m,\u001b[0m\u001b[0;34m\u001b[0m\u001b[0;34m\u001b[0m\u001b[0m\n",
      "\u001b[0;32m/opt/conda/lib/python3.8/site-packages/torchvision/models/detection/generalized_rcnn.py\u001b[0m in \u001b[0;36mforward\u001b[0;34m(self, images, targets)\u001b[0m\n\u001b[1;32m     96\u001b[0m             \u001b[0mfeatures\u001b[0m \u001b[0;34m=\u001b[0m \u001b[0mOrderedDict\u001b[0m\u001b[0;34m(\u001b[0m\u001b[0;34m[\u001b[0m\u001b[0;34m(\u001b[0m\u001b[0;34m'0'\u001b[0m\u001b[0;34m,\u001b[0m \u001b[0mfeatures\u001b[0m\u001b[0;34m)\u001b[0m\u001b[0;34m]\u001b[0m\u001b[0;34m)\u001b[0m\u001b[0;34m\u001b[0m\u001b[0;34m\u001b[0m\u001b[0m\n\u001b[1;32m     97\u001b[0m         \u001b[0mproposals\u001b[0m\u001b[0;34m,\u001b[0m \u001b[0mproposal_losses\u001b[0m \u001b[0;34m=\u001b[0m \u001b[0mself\u001b[0m\u001b[0;34m.\u001b[0m\u001b[0mrpn\u001b[0m\u001b[0;34m(\u001b[0m\u001b[0mimages\u001b[0m\u001b[0;34m,\u001b[0m \u001b[0mfeatures\u001b[0m\u001b[0;34m,\u001b[0m \u001b[0mtargets\u001b[0m\u001b[0;34m)\u001b[0m\u001b[0;34m\u001b[0m\u001b[0;34m\u001b[0m\u001b[0m\n\u001b[0;32m---> 98\u001b[0;31m         \u001b[0mdetections\u001b[0m\u001b[0;34m,\u001b[0m \u001b[0mdetector_losses\u001b[0m \u001b[0;34m=\u001b[0m \u001b[0mself\u001b[0m\u001b[0;34m.\u001b[0m\u001b[0mroi_heads\u001b[0m\u001b[0;34m(\u001b[0m\u001b[0mfeatures\u001b[0m\u001b[0;34m,\u001b[0m \u001b[0mproposals\u001b[0m\u001b[0;34m,\u001b[0m \u001b[0mimages\u001b[0m\u001b[0;34m.\u001b[0m\u001b[0mimage_sizes\u001b[0m\u001b[0;34m,\u001b[0m \u001b[0mtargets\u001b[0m\u001b[0;34m)\u001b[0m\u001b[0;34m\u001b[0m\u001b[0;34m\u001b[0m\u001b[0m\n\u001b[0m\u001b[1;32m     99\u001b[0m         \u001b[0mdetections\u001b[0m \u001b[0;34m=\u001b[0m \u001b[0mself\u001b[0m\u001b[0;34m.\u001b[0m\u001b[0mtransform\u001b[0m\u001b[0;34m.\u001b[0m\u001b[0mpostprocess\u001b[0m\u001b[0;34m(\u001b[0m\u001b[0mdetections\u001b[0m\u001b[0;34m,\u001b[0m \u001b[0mimages\u001b[0m\u001b[0;34m.\u001b[0m\u001b[0mimage_sizes\u001b[0m\u001b[0;34m,\u001b[0m \u001b[0moriginal_image_sizes\u001b[0m\u001b[0;34m)\u001b[0m\u001b[0;34m\u001b[0m\u001b[0;34m\u001b[0m\u001b[0m\n\u001b[1;32m    100\u001b[0m \u001b[0;34m\u001b[0m\u001b[0m\n",
      "\u001b[0;32m/opt/conda/lib/python3.8/site-packages/torch/nn/modules/module.py\u001b[0m in \u001b[0;36m_call_impl\u001b[0;34m(self, *input, **kwargs)\u001b[0m\n\u001b[1;32m    879\u001b[0m             \u001b[0mresult\u001b[0m \u001b[0;34m=\u001b[0m \u001b[0mself\u001b[0m\u001b[0;34m.\u001b[0m\u001b[0m_slow_forward\u001b[0m\u001b[0;34m(\u001b[0m\u001b[0;34m*\u001b[0m\u001b[0minput\u001b[0m\u001b[0;34m,\u001b[0m \u001b[0;34m**\u001b[0m\u001b[0mkwargs\u001b[0m\u001b[0;34m)\u001b[0m\u001b[0;34m\u001b[0m\u001b[0;34m\u001b[0m\u001b[0m\n\u001b[1;32m    880\u001b[0m         \u001b[0;32melse\u001b[0m\u001b[0;34m:\u001b[0m\u001b[0;34m\u001b[0m\u001b[0;34m\u001b[0m\u001b[0m\n\u001b[0;32m--> 881\u001b[0;31m             \u001b[0mresult\u001b[0m \u001b[0;34m=\u001b[0m \u001b[0mself\u001b[0m\u001b[0;34m.\u001b[0m\u001b[0mforward\u001b[0m\u001b[0;34m(\u001b[0m\u001b[0;34m*\u001b[0m\u001b[0minput\u001b[0m\u001b[0;34m,\u001b[0m \u001b[0;34m**\u001b[0m\u001b[0mkwargs\u001b[0m\u001b[0;34m)\u001b[0m\u001b[0;34m\u001b[0m\u001b[0;34m\u001b[0m\u001b[0m\n\u001b[0m\u001b[1;32m    882\u001b[0m         for hook in itertools.chain(\n\u001b[1;32m    883\u001b[0m                 \u001b[0m_global_forward_hooks\u001b[0m\u001b[0;34m.\u001b[0m\u001b[0mvalues\u001b[0m\u001b[0;34m(\u001b[0m\u001b[0;34m)\u001b[0m\u001b[0;34m,\u001b[0m\u001b[0;34m\u001b[0m\u001b[0;34m\u001b[0m\u001b[0m\n",
      "\u001b[0;32m/opt/conda/lib/python3.8/site-packages/torchvision/models/detection/roi_heads.py\u001b[0m in \u001b[0;36mforward\u001b[0;34m(self, features, proposals, image_shapes, targets)\u001b[0m\n\u001b[1;32m    765\u001b[0m             }\n\u001b[1;32m    766\u001b[0m         \u001b[0;32melse\u001b[0m\u001b[0;34m:\u001b[0m\u001b[0;34m\u001b[0m\u001b[0;34m\u001b[0m\u001b[0m\n\u001b[0;32m--> 767\u001b[0;31m             \u001b[0mboxes\u001b[0m\u001b[0;34m,\u001b[0m \u001b[0mscores\u001b[0m\u001b[0;34m,\u001b[0m \u001b[0mlabels\u001b[0m \u001b[0;34m=\u001b[0m \u001b[0mself\u001b[0m\u001b[0;34m.\u001b[0m\u001b[0mpostprocess_detections\u001b[0m\u001b[0;34m(\u001b[0m\u001b[0mclass_logits\u001b[0m\u001b[0;34m,\u001b[0m \u001b[0mbox_regression\u001b[0m\u001b[0;34m,\u001b[0m \u001b[0mproposals\u001b[0m\u001b[0;34m,\u001b[0m \u001b[0mimage_shapes\u001b[0m\u001b[0;34m)\u001b[0m\u001b[0;34m\u001b[0m\u001b[0;34m\u001b[0m\u001b[0m\n\u001b[0m\u001b[1;32m    768\u001b[0m             \u001b[0mnum_images\u001b[0m \u001b[0;34m=\u001b[0m \u001b[0mlen\u001b[0m\u001b[0;34m(\u001b[0m\u001b[0mboxes\u001b[0m\u001b[0;34m)\u001b[0m\u001b[0;34m\u001b[0m\u001b[0;34m\u001b[0m\u001b[0m\n\u001b[1;32m    769\u001b[0m             \u001b[0;32mfor\u001b[0m \u001b[0mi\u001b[0m \u001b[0;32min\u001b[0m \u001b[0mrange\u001b[0m\u001b[0;34m(\u001b[0m\u001b[0mnum_images\u001b[0m\u001b[0;34m)\u001b[0m\u001b[0;34m:\u001b[0m\u001b[0;34m\u001b[0m\u001b[0;34m\u001b[0m\u001b[0m\n",
      "\u001b[0;32m/opt/conda/lib/python3.8/site-packages/torchvision/models/detection/roi_heads.py\u001b[0m in \u001b[0;36mpostprocess_detections\u001b[0;34m(self, class_logits, box_regression, proposals, image_shapes)\u001b[0m\n\u001b[1;32m    673\u001b[0m \u001b[0;34m\u001b[0m\u001b[0m\n\u001b[1;32m    674\u001b[0m         \u001b[0mboxes_per_image\u001b[0m \u001b[0;34m=\u001b[0m \u001b[0;34m[\u001b[0m\u001b[0mboxes_in_image\u001b[0m\u001b[0;34m.\u001b[0m\u001b[0mshape\u001b[0m\u001b[0;34m[\u001b[0m\u001b[0;36m0\u001b[0m\u001b[0;34m]\u001b[0m \u001b[0;32mfor\u001b[0m \u001b[0mboxes_in_image\u001b[0m \u001b[0;32min\u001b[0m \u001b[0mproposals\u001b[0m\u001b[0;34m]\u001b[0m\u001b[0;34m\u001b[0m\u001b[0;34m\u001b[0m\u001b[0m\n\u001b[0;32m--> 675\u001b[0;31m         \u001b[0mpred_boxes\u001b[0m \u001b[0;34m=\u001b[0m \u001b[0mself\u001b[0m\u001b[0;34m.\u001b[0m\u001b[0mbox_coder\u001b[0m\u001b[0;34m.\u001b[0m\u001b[0mdecode\u001b[0m\u001b[0;34m(\u001b[0m\u001b[0mbox_regression\u001b[0m\u001b[0;34m,\u001b[0m \u001b[0mproposals\u001b[0m\u001b[0;34m)\u001b[0m\u001b[0;34m\u001b[0m\u001b[0;34m\u001b[0m\u001b[0m\n\u001b[0m\u001b[1;32m    676\u001b[0m \u001b[0;34m\u001b[0m\u001b[0m\n\u001b[1;32m    677\u001b[0m         \u001b[0mpred_scores\u001b[0m \u001b[0;34m=\u001b[0m \u001b[0mF\u001b[0m\u001b[0;34m.\u001b[0m\u001b[0msoftmax\u001b[0m\u001b[0;34m(\u001b[0m\u001b[0mclass_logits\u001b[0m\u001b[0;34m,\u001b[0m \u001b[0;34m-\u001b[0m\u001b[0;36m1\u001b[0m\u001b[0;34m)\u001b[0m\u001b[0;34m\u001b[0m\u001b[0;34m\u001b[0m\u001b[0m\n",
      "\u001b[0;32m/opt/conda/lib/python3.8/site-packages/torchvision/models/detection/_utils.py\u001b[0m in \u001b[0;36mdecode\u001b[0;34m(self, rel_codes, boxes)\u001b[0m\n\u001b[1;32m    175\u001b[0m             \u001b[0mbox_sum\u001b[0m \u001b[0;34m+=\u001b[0m \u001b[0mval\u001b[0m\u001b[0;34m\u001b[0m\u001b[0;34m\u001b[0m\u001b[0m\n\u001b[1;32m    176\u001b[0m         pred_boxes = self.decode_single(\n\u001b[0;32m--> 177\u001b[0;31m             \u001b[0mrel_codes\u001b[0m\u001b[0;34m.\u001b[0m\u001b[0mreshape\u001b[0m\u001b[0;34m(\u001b[0m\u001b[0mbox_sum\u001b[0m\u001b[0;34m,\u001b[0m \u001b[0;34m-\u001b[0m\u001b[0;36m1\u001b[0m\u001b[0;34m)\u001b[0m\u001b[0;34m,\u001b[0m \u001b[0mconcat_boxes\u001b[0m\u001b[0;34m\u001b[0m\u001b[0;34m\u001b[0m\u001b[0m\n\u001b[0m\u001b[1;32m    178\u001b[0m         )\n\u001b[1;32m    179\u001b[0m         \u001b[0;32mreturn\u001b[0m \u001b[0mpred_boxes\u001b[0m\u001b[0;34m.\u001b[0m\u001b[0mreshape\u001b[0m\u001b[0;34m(\u001b[0m\u001b[0mbox_sum\u001b[0m\u001b[0;34m,\u001b[0m \u001b[0;34m-\u001b[0m\u001b[0;36m1\u001b[0m\u001b[0;34m,\u001b[0m \u001b[0;36m4\u001b[0m\u001b[0;34m)\u001b[0m\u001b[0;34m\u001b[0m\u001b[0;34m\u001b[0m\u001b[0m\n",
      "\u001b[0;31mRuntimeError\u001b[0m: cannot reshape tensor of 0 elements into shape [0, -1] because the unspecified dimension size -1 can be any value and is ambiguous"
     ]
    }
   ],
   "source": [
    "from detecto.utils import read_image\n",
    "test_image = read_image(str(all_test_imgs[1]))\n",
    "\n",
    "predicted_labels, predicted_boxes, predicted_confidence = model.predict_top(test_image)"
   ]
  },
  {
   "cell_type": "code",
   "execution_count": null,
   "metadata": {},
   "outputs": [],
   "source": []
  },
  {
   "cell_type": "code",
   "execution_count": 29,
   "metadata": {},
   "outputs": [
    {
     "data": {
      "image/jpeg": "[encoded data removed]",
      "text/plain": [
       "<IPython.core.display.Image object>"
      ]
     },
     "execution_count": 29,
     "metadata": {},
     "output_type": "execute_result"
    }
   ],
   "source": [
    "test_image\n",
    "from IPython.display import Image\n",
    "Image(filename=all_test_imgs[1])"
   ]
  },
  {
   "cell_type": "code",
   "execution_count": 27,
   "metadata": {
    "collapsed": true,
    "jupyter": {
     "outputs_hidden": true
    }
   },
   "outputs": [
    {
     "ename": "TypeError",
     "evalue": "pic should be PIL Image or ndarray. Got <class 'pathlib.PosixPath'>",
     "output_type": "error",
     "traceback": [
      "\u001b[0;31m---------------------------------------------------------------------------\u001b[0m",
      "\u001b[0;31mTypeError\u001b[0m                                 Traceback (most recent call last)",
      "\u001b[0;32m<ipython-input-27-15931fae53a7>\u001b[0m in \u001b[0;36m<module>\u001b[0;34m\u001b[0m\n\u001b[0;32m----> 1\u001b[0;31m \u001b[0mmodel\u001b[0m\u001b[0;34m.\u001b[0m\u001b[0mpredict\u001b[0m\u001b[0;34m(\u001b[0m\u001b[0mall_test_imgs\u001b[0m\u001b[0;34m[\u001b[0m\u001b[0;36m0\u001b[0m\u001b[0;34m]\u001b[0m\u001b[0;34m)\u001b[0m\u001b[0;34m\u001b[0m\u001b[0;34m\u001b[0m\u001b[0m\n\u001b[0m",
      "\u001b[0;32m/opt/conda/lib/python3.8/site-packages/detecto/core.py\u001b[0m in \u001b[0;36mpredict\u001b[0;34m(self, images)\u001b[0m\n\u001b[1;32m    338\u001b[0m         \u001b[0mis_single_image\u001b[0m \u001b[0;34m=\u001b[0m \u001b[0;32mnot\u001b[0m \u001b[0m_is_iterable\u001b[0m\u001b[0;34m(\u001b[0m\u001b[0mimages\u001b[0m\u001b[0;34m)\u001b[0m\u001b[0;34m\u001b[0m\u001b[0;34m\u001b[0m\u001b[0m\n\u001b[1;32m    339\u001b[0m         \u001b[0mimages\u001b[0m \u001b[0;34m=\u001b[0m \u001b[0;34m[\u001b[0m\u001b[0mimages\u001b[0m\u001b[0;34m]\u001b[0m \u001b[0;32mif\u001b[0m \u001b[0mis_single_image\u001b[0m \u001b[0;32melse\u001b[0m \u001b[0mimages\u001b[0m\u001b[0;34m\u001b[0m\u001b[0;34m\u001b[0m\u001b[0m\n\u001b[0;32m--> 340\u001b[0;31m         \u001b[0mpreds\u001b[0m \u001b[0;34m=\u001b[0m \u001b[0mself\u001b[0m\u001b[0;34m.\u001b[0m\u001b[0m_get_raw_predictions\u001b[0m\u001b[0;34m(\u001b[0m\u001b[0mimages\u001b[0m\u001b[0;34m)\u001b[0m\u001b[0;34m\u001b[0m\u001b[0;34m\u001b[0m\u001b[0m\n\u001b[0m\u001b[1;32m    341\u001b[0m \u001b[0;34m\u001b[0m\u001b[0m\n\u001b[1;32m    342\u001b[0m         \u001b[0mresults\u001b[0m \u001b[0;34m=\u001b[0m \u001b[0;34m[\u001b[0m\u001b[0;34m]\u001b[0m\u001b[0;34m\u001b[0m\u001b[0;34m\u001b[0m\u001b[0m\n",
      "\u001b[0;32m/opt/conda/lib/python3.8/site-packages/detecto/core.py\u001b[0m in \u001b[0;36m_get_raw_predictions\u001b[0;34m(self, images)\u001b[0m\n\u001b[1;32m    289\u001b[0m                 \u001b[0;32melse\u001b[0m\u001b[0;34m:\u001b[0m\u001b[0;34m\u001b[0m\u001b[0;34m\u001b[0m\u001b[0m\n\u001b[1;32m    290\u001b[0m                     \u001b[0mdefaults\u001b[0m \u001b[0;34m=\u001b[0m \u001b[0mdefault_transforms\u001b[0m\u001b[0;34m(\u001b[0m\u001b[0;34m)\u001b[0m\u001b[0;34m\u001b[0m\u001b[0;34m\u001b[0m\u001b[0m\n\u001b[0;32m--> 291\u001b[0;31m                 \u001b[0mimages\u001b[0m \u001b[0;34m=\u001b[0m \u001b[0;34m[\u001b[0m\u001b[0mdefaults\u001b[0m\u001b[0;34m(\u001b[0m\u001b[0mimg\u001b[0m\u001b[0;34m)\u001b[0m \u001b[0;32mfor\u001b[0m \u001b[0mimg\u001b[0m \u001b[0;32min\u001b[0m \u001b[0mimages\u001b[0m\u001b[0;34m]\u001b[0m\u001b[0;34m\u001b[0m\u001b[0;34m\u001b[0m\u001b[0m\n\u001b[0m\u001b[1;32m    292\u001b[0m \u001b[0;34m\u001b[0m\u001b[0m\n\u001b[1;32m    293\u001b[0m             \u001b[0;31m# Send images to the specified device\u001b[0m\u001b[0;34m\u001b[0m\u001b[0;34m\u001b[0m\u001b[0;34m\u001b[0m\u001b[0m\n",
      "\u001b[0;32m/opt/conda/lib/python3.8/site-packages/detecto/core.py\u001b[0m in \u001b[0;36m<listcomp>\u001b[0;34m(.0)\u001b[0m\n\u001b[1;32m    289\u001b[0m                 \u001b[0;32melse\u001b[0m\u001b[0;34m:\u001b[0m\u001b[0;34m\u001b[0m\u001b[0;34m\u001b[0m\u001b[0m\n\u001b[1;32m    290\u001b[0m                     \u001b[0mdefaults\u001b[0m \u001b[0;34m=\u001b[0m \u001b[0mdefault_transforms\u001b[0m\u001b[0;34m(\u001b[0m\u001b[0;34m)\u001b[0m\u001b[0;34m\u001b[0m\u001b[0;34m\u001b[0m\u001b[0m\n\u001b[0;32m--> 291\u001b[0;31m                 \u001b[0mimages\u001b[0m \u001b[0;34m=\u001b[0m \u001b[0;34m[\u001b[0m\u001b[0mdefaults\u001b[0m\u001b[0;34m(\u001b[0m\u001b[0mimg\u001b[0m\u001b[0;34m)\u001b[0m \u001b[0;32mfor\u001b[0m \u001b[0mimg\u001b[0m \u001b[0;32min\u001b[0m \u001b[0mimages\u001b[0m\u001b[0;34m]\u001b[0m\u001b[0;34m\u001b[0m\u001b[0;34m\u001b[0m\u001b[0m\n\u001b[0m\u001b[1;32m    292\u001b[0m \u001b[0;34m\u001b[0m\u001b[0m\n\u001b[1;32m    293\u001b[0m             \u001b[0;31m# Send images to the specified device\u001b[0m\u001b[0;34m\u001b[0m\u001b[0;34m\u001b[0m\u001b[0;34m\u001b[0m\u001b[0m\n",
      "\u001b[0;32m/opt/conda/lib/python3.8/site-packages/torchvision/transforms/transforms.py\u001b[0m in \u001b[0;36m__call__\u001b[0;34m(self, img)\u001b[0m\n\u001b[1;32m     58\u001b[0m     \u001b[0;32mdef\u001b[0m \u001b[0m__call__\u001b[0m\u001b[0;34m(\u001b[0m\u001b[0mself\u001b[0m\u001b[0;34m,\u001b[0m \u001b[0mimg\u001b[0m\u001b[0;34m)\u001b[0m\u001b[0;34m:\u001b[0m\u001b[0;34m\u001b[0m\u001b[0;34m\u001b[0m\u001b[0m\n\u001b[1;32m     59\u001b[0m         \u001b[0;32mfor\u001b[0m \u001b[0mt\u001b[0m \u001b[0;32min\u001b[0m \u001b[0mself\u001b[0m\u001b[0;34m.\u001b[0m\u001b[0mtransforms\u001b[0m\u001b[0;34m:\u001b[0m\u001b[0;34m\u001b[0m\u001b[0;34m\u001b[0m\u001b[0m\n\u001b[0;32m---> 60\u001b[0;31m             \u001b[0mimg\u001b[0m \u001b[0;34m=\u001b[0m \u001b[0mt\u001b[0m\u001b[0;34m(\u001b[0m\u001b[0mimg\u001b[0m\u001b[0;34m)\u001b[0m\u001b[0;34m\u001b[0m\u001b[0;34m\u001b[0m\u001b[0m\n\u001b[0m\u001b[1;32m     61\u001b[0m         \u001b[0;32mreturn\u001b[0m \u001b[0mimg\u001b[0m\u001b[0;34m\u001b[0m\u001b[0;34m\u001b[0m\u001b[0m\n\u001b[1;32m     62\u001b[0m \u001b[0;34m\u001b[0m\u001b[0m\n",
      "\u001b[0;32m/opt/conda/lib/python3.8/site-packages/torchvision/transforms/transforms.py\u001b[0m in \u001b[0;36m__call__\u001b[0;34m(self, pic)\u001b[0m\n\u001b[1;32m     95\u001b[0m             \u001b[0mTensor\u001b[0m\u001b[0;34m:\u001b[0m \u001b[0mConverted\u001b[0m \u001b[0mimage\u001b[0m\u001b[0;34m.\u001b[0m\u001b[0;34m\u001b[0m\u001b[0;34m\u001b[0m\u001b[0m\n\u001b[1;32m     96\u001b[0m         \"\"\"\n\u001b[0;32m---> 97\u001b[0;31m         \u001b[0;32mreturn\u001b[0m \u001b[0mF\u001b[0m\u001b[0;34m.\u001b[0m\u001b[0mto_tensor\u001b[0m\u001b[0;34m(\u001b[0m\u001b[0mpic\u001b[0m\u001b[0;34m)\u001b[0m\u001b[0;34m\u001b[0m\u001b[0;34m\u001b[0m\u001b[0m\n\u001b[0m\u001b[1;32m     98\u001b[0m \u001b[0;34m\u001b[0m\u001b[0m\n\u001b[1;32m     99\u001b[0m     \u001b[0;32mdef\u001b[0m \u001b[0m__repr__\u001b[0m\u001b[0;34m(\u001b[0m\u001b[0mself\u001b[0m\u001b[0;34m)\u001b[0m\u001b[0;34m:\u001b[0m\u001b[0;34m\u001b[0m\u001b[0;34m\u001b[0m\u001b[0m\n",
      "\u001b[0;32m/opt/conda/lib/python3.8/site-packages/torchvision/transforms/functional.py\u001b[0m in \u001b[0;36mto_tensor\u001b[0;34m(pic)\u001b[0m\n\u001b[1;32m    100\u001b[0m     \"\"\"\n\u001b[1;32m    101\u001b[0m     \u001b[0;32mif\u001b[0m \u001b[0;32mnot\u001b[0m\u001b[0;34m(\u001b[0m\u001b[0mF_pil\u001b[0m\u001b[0;34m.\u001b[0m\u001b[0m_is_pil_image\u001b[0m\u001b[0;34m(\u001b[0m\u001b[0mpic\u001b[0m\u001b[0;34m)\u001b[0m \u001b[0;32mor\u001b[0m \u001b[0m_is_numpy\u001b[0m\u001b[0;34m(\u001b[0m\u001b[0mpic\u001b[0m\u001b[0;34m)\u001b[0m\u001b[0;34m)\u001b[0m\u001b[0;34m:\u001b[0m\u001b[0;34m\u001b[0m\u001b[0;34m\u001b[0m\u001b[0m\n\u001b[0;32m--> 102\u001b[0;31m         \u001b[0;32mraise\u001b[0m \u001b[0mTypeError\u001b[0m\u001b[0;34m(\u001b[0m\u001b[0;34m'pic should be PIL Image or ndarray. Got {}'\u001b[0m\u001b[0;34m.\u001b[0m\u001b[0mformat\u001b[0m\u001b[0;34m(\u001b[0m\u001b[0mtype\u001b[0m\u001b[0;34m(\u001b[0m\u001b[0mpic\u001b[0m\u001b[0;34m)\u001b[0m\u001b[0;34m)\u001b[0m\u001b[0;34m)\u001b[0m\u001b[0;34m\u001b[0m\u001b[0;34m\u001b[0m\u001b[0m\n\u001b[0m\u001b[1;32m    103\u001b[0m \u001b[0;34m\u001b[0m\u001b[0m\n\u001b[1;32m    104\u001b[0m     \u001b[0;32mif\u001b[0m \u001b[0m_is_numpy\u001b[0m\u001b[0;34m(\u001b[0m\u001b[0mpic\u001b[0m\u001b[0;34m)\u001b[0m \u001b[0;32mand\u001b[0m \u001b[0;32mnot\u001b[0m \u001b[0m_is_numpy_image\u001b[0m\u001b[0;34m(\u001b[0m\u001b[0mpic\u001b[0m\u001b[0;34m)\u001b[0m\u001b[0;34m:\u001b[0m\u001b[0;34m\u001b[0m\u001b[0;34m\u001b[0m\u001b[0m\n",
      "\u001b[0;31mTypeError\u001b[0m: pic should be PIL Image or ndarray. Got <class 'pathlib.PosixPath'>"
     ]
    }
   ],
   "source": [
    "model.predict(all_test_imgs[0])"
   ]
  },
  {
   "cell_type": "code",
   "execution_count": 35,
   "metadata": {},
   "outputs": [],
   "source": [
    "ptorch_model = model._model"
   ]
  },
  {
   "cell_type": "code",
   "execution_count": 40,
   "metadata": {},
   "outputs": [
    {
     "ename": "ValueError",
     "evalue": "images is expected to be a list of 3d tensors of shape [C, H, W], got torch.Size([416, 3])",
     "output_type": "error",
     "traceback": [
      "\u001b[0;31m---------------------------------------------------------------------------\u001b[0m",
      "\u001b[0;31mValueError\u001b[0m                                Traceback (most recent call last)",
      "\u001b[0;32m<ipython-input-40-e5f834c50532>\u001b[0m in \u001b[0;36m<module>\u001b[0;34m\u001b[0m\n\u001b[1;32m      1\u001b[0m \u001b[0;32mimport\u001b[0m \u001b[0mtorch\u001b[0m\u001b[0;34m\u001b[0m\u001b[0;34m\u001b[0m\u001b[0m\n\u001b[1;32m      2\u001b[0m \u001b[0;34m\u001b[0m\u001b[0m\n\u001b[0;32m----> 3\u001b[0;31m \u001b[0mprediction\u001b[0m \u001b[0;34m=\u001b[0m \u001b[0mptorch_model\u001b[0m\u001b[0;34m(\u001b[0m\u001b[0mtorch\u001b[0m\u001b[0;34m.\u001b[0m\u001b[0mfrom_numpy\u001b[0m\u001b[0;34m(\u001b[0m\u001b[0mtest_image\u001b[0m\u001b[0;34m)\u001b[0m\u001b[0;34m)\u001b[0m\u001b[0;34m\u001b[0m\u001b[0;34m\u001b[0m\u001b[0m\n\u001b[0m",
      "\u001b[0;32m/opt/conda/lib/python3.8/site-packages/torch/nn/modules/module.py\u001b[0m in \u001b[0;36m_call_impl\u001b[0;34m(self, *input, **kwargs)\u001b[0m\n\u001b[1;32m    879\u001b[0m             \u001b[0mresult\u001b[0m \u001b[0;34m=\u001b[0m \u001b[0mself\u001b[0m\u001b[0;34m.\u001b[0m\u001b[0m_slow_forward\u001b[0m\u001b[0;34m(\u001b[0m\u001b[0;34m*\u001b[0m\u001b[0minput\u001b[0m\u001b[0;34m,\u001b[0m \u001b[0;34m**\u001b[0m\u001b[0mkwargs\u001b[0m\u001b[0;34m)\u001b[0m\u001b[0;34m\u001b[0m\u001b[0;34m\u001b[0m\u001b[0m\n\u001b[1;32m    880\u001b[0m         \u001b[0;32melse\u001b[0m\u001b[0;34m:\u001b[0m\u001b[0;34m\u001b[0m\u001b[0;34m\u001b[0m\u001b[0m\n\u001b[0;32m--> 881\u001b[0;31m             \u001b[0mresult\u001b[0m \u001b[0;34m=\u001b[0m \u001b[0mself\u001b[0m\u001b[0;34m.\u001b[0m\u001b[0mforward\u001b[0m\u001b[0;34m(\u001b[0m\u001b[0;34m*\u001b[0m\u001b[0minput\u001b[0m\u001b[0;34m,\u001b[0m \u001b[0;34m**\u001b[0m\u001b[0mkwargs\u001b[0m\u001b[0;34m)\u001b[0m\u001b[0;34m\u001b[0m\u001b[0;34m\u001b[0m\u001b[0m\n\u001b[0m\u001b[1;32m    882\u001b[0m         for hook in itertools.chain(\n\u001b[1;32m    883\u001b[0m                 \u001b[0m_global_forward_hooks\u001b[0m\u001b[0;34m.\u001b[0m\u001b[0mvalues\u001b[0m\u001b[0;34m(\u001b[0m\u001b[0;34m)\u001b[0m\u001b[0;34m,\u001b[0m\u001b[0;34m\u001b[0m\u001b[0;34m\u001b[0m\u001b[0m\n",
      "\u001b[0;32m/opt/conda/lib/python3.8/site-packages/torchvision/models/detection/generalized_rcnn.py\u001b[0m in \u001b[0;36mforward\u001b[0;34m(self, images, targets)\u001b[0m\n\u001b[1;32m     76\u001b[0m             \u001b[0moriginal_image_sizes\u001b[0m\u001b[0;34m.\u001b[0m\u001b[0mappend\u001b[0m\u001b[0;34m(\u001b[0m\u001b[0;34m(\u001b[0m\u001b[0mval\u001b[0m\u001b[0;34m[\u001b[0m\u001b[0;36m0\u001b[0m\u001b[0;34m]\u001b[0m\u001b[0;34m,\u001b[0m \u001b[0mval\u001b[0m\u001b[0;34m[\u001b[0m\u001b[0;36m1\u001b[0m\u001b[0;34m]\u001b[0m\u001b[0;34m)\u001b[0m\u001b[0;34m)\u001b[0m\u001b[0;34m\u001b[0m\u001b[0;34m\u001b[0m\u001b[0m\n\u001b[1;32m     77\u001b[0m \u001b[0;34m\u001b[0m\u001b[0m\n\u001b[0;32m---> 78\u001b[0;31m         \u001b[0mimages\u001b[0m\u001b[0;34m,\u001b[0m \u001b[0mtargets\u001b[0m \u001b[0;34m=\u001b[0m \u001b[0mself\u001b[0m\u001b[0;34m.\u001b[0m\u001b[0mtransform\u001b[0m\u001b[0;34m(\u001b[0m\u001b[0mimages\u001b[0m\u001b[0;34m,\u001b[0m \u001b[0mtargets\u001b[0m\u001b[0;34m)\u001b[0m\u001b[0;34m\u001b[0m\u001b[0;34m\u001b[0m\u001b[0m\n\u001b[0m\u001b[1;32m     79\u001b[0m \u001b[0;34m\u001b[0m\u001b[0m\n\u001b[1;32m     80\u001b[0m         \u001b[0;31m# Check for degenerate boxes\u001b[0m\u001b[0;34m\u001b[0m\u001b[0;34m\u001b[0m\u001b[0;34m\u001b[0m\u001b[0m\n",
      "\u001b[0;32m/opt/conda/lib/python3.8/site-packages/torch/nn/modules/module.py\u001b[0m in \u001b[0;36m_call_impl\u001b[0;34m(self, *input, **kwargs)\u001b[0m\n\u001b[1;32m    879\u001b[0m             \u001b[0mresult\u001b[0m \u001b[0;34m=\u001b[0m \u001b[0mself\u001b[0m\u001b[0;34m.\u001b[0m\u001b[0m_slow_forward\u001b[0m\u001b[0;34m(\u001b[0m\u001b[0;34m*\u001b[0m\u001b[0minput\u001b[0m\u001b[0;34m,\u001b[0m \u001b[0;34m**\u001b[0m\u001b[0mkwargs\u001b[0m\u001b[0;34m)\u001b[0m\u001b[0;34m\u001b[0m\u001b[0;34m\u001b[0m\u001b[0m\n\u001b[1;32m    880\u001b[0m         \u001b[0;32melse\u001b[0m\u001b[0;34m:\u001b[0m\u001b[0;34m\u001b[0m\u001b[0;34m\u001b[0m\u001b[0m\n\u001b[0;32m--> 881\u001b[0;31m             \u001b[0mresult\u001b[0m \u001b[0;34m=\u001b[0m \u001b[0mself\u001b[0m\u001b[0;34m.\u001b[0m\u001b[0mforward\u001b[0m\u001b[0;34m(\u001b[0m\u001b[0;34m*\u001b[0m\u001b[0minput\u001b[0m\u001b[0;34m,\u001b[0m \u001b[0;34m**\u001b[0m\u001b[0mkwargs\u001b[0m\u001b[0;34m)\u001b[0m\u001b[0;34m\u001b[0m\u001b[0;34m\u001b[0m\u001b[0m\n\u001b[0m\u001b[1;32m    882\u001b[0m         for hook in itertools.chain(\n\u001b[1;32m    883\u001b[0m                 \u001b[0m_global_forward_hooks\u001b[0m\u001b[0;34m.\u001b[0m\u001b[0mvalues\u001b[0m\u001b[0;34m(\u001b[0m\u001b[0;34m)\u001b[0m\u001b[0;34m,\u001b[0m\u001b[0;34m\u001b[0m\u001b[0;34m\u001b[0m\u001b[0m\n",
      "\u001b[0;32m/opt/conda/lib/python3.8/site-packages/torchvision/models/detection/transform.py\u001b[0m in \u001b[0;36mforward\u001b[0;34m(self, images, targets)\u001b[0m\n\u001b[1;32m     99\u001b[0m \u001b[0;34m\u001b[0m\u001b[0m\n\u001b[1;32m    100\u001b[0m             \u001b[0;32mif\u001b[0m \u001b[0mimage\u001b[0m\u001b[0;34m.\u001b[0m\u001b[0mdim\u001b[0m\u001b[0;34m(\u001b[0m\u001b[0;34m)\u001b[0m \u001b[0;34m!=\u001b[0m \u001b[0;36m3\u001b[0m\u001b[0;34m:\u001b[0m\u001b[0;34m\u001b[0m\u001b[0;34m\u001b[0m\u001b[0m\n\u001b[0;32m--> 101\u001b[0;31m                 raise ValueError(\"images is expected to be a list of 3d tensors \"\n\u001b[0m\u001b[1;32m    102\u001b[0m                                  \"of shape [C, H, W], got {}\".format(image.shape))\n\u001b[1;32m    103\u001b[0m             \u001b[0mimage\u001b[0m \u001b[0;34m=\u001b[0m \u001b[0mself\u001b[0m\u001b[0;34m.\u001b[0m\u001b[0mnormalize\u001b[0m\u001b[0;34m(\u001b[0m\u001b[0mimage\u001b[0m\u001b[0;34m)\u001b[0m\u001b[0;34m\u001b[0m\u001b[0;34m\u001b[0m\u001b[0m\n",
      "\u001b[0;31mValueError\u001b[0m: images is expected to be a list of 3d tensors of shape [C, H, W], got torch.Size([416, 3])"
     ]
    }
   ],
   "source": [
    "import torch\n",
    "\n",
    "prediction = ptorch_model(torch.from_numpy(test_image))"
   ]
  },
  {
   "cell_type": "code",
   "execution_count": 18,
   "metadata": {
    "gradient": {}
   },
   "outputs": [
    {
     "ename": "NameError",
     "evalue": "name 'predicted_boxes' is not defined",
     "output_type": "error",
     "traceback": [
      "\u001b[0;31m---------------------------------------------------------------------------\u001b[0m",
      "\u001b[0;31mNameError\u001b[0m                                 Traceback (most recent call last)",
      "\u001b[0;32m<ipython-input-18-285ff72da4df>\u001b[0m in \u001b[0;36m<module>\u001b[0;34m\u001b[0m\n\u001b[1;32m      1\u001b[0m \u001b[0;32mfrom\u001b[0m \u001b[0mdetecto\u001b[0m\u001b[0;34m.\u001b[0m\u001b[0mvisualize\u001b[0m \u001b[0;32mimport\u001b[0m \u001b[0mshow_labeled_image\u001b[0m\u001b[0;34m\u001b[0m\u001b[0;34m\u001b[0m\u001b[0m\n\u001b[1;32m      2\u001b[0m \u001b[0;34m\u001b[0m\u001b[0m\n\u001b[0;32m----> 3\u001b[0;31m \u001b[0mshow_labeled_image\u001b[0m\u001b[0;34m(\u001b[0m\u001b[0mtest_image\u001b[0m\u001b[0;34m,\u001b[0m \u001b[0mpredicted_boxes\u001b[0m\u001b[0;34m,\u001b[0m \u001b[0mpredicted_labels\u001b[0m\u001b[0;34m)\u001b[0m\u001b[0;34m\u001b[0m\u001b[0;34m\u001b[0m\u001b[0m\n\u001b[0m",
      "\u001b[0;31mNameError\u001b[0m: name 'predicted_boxes' is not defined"
     ]
    }
   ],
   "source": [
    "from detecto.visualize import show_labeled_image\n",
    "\n",
    "show_labeled_image(test_image, predicted_boxes, predicted_labels)"
   ]
  },
  {
   "cell_type": "markdown",
   "metadata": {},
   "source": [
    "Not bad!  What about the second one?"
   ]
  },
  {
   "cell_type": "code",
   "execution_count": null,
   "metadata": {
    "collapsed": true,
    "gradient": {},
    "jupyter": {
     "outputs_hidden": true
    }
   },
   "outputs": [
    {
     "ename": "RuntimeError",
     "evalue": "cannot reshape tensor of 0 elements into shape [0, -1] because the unspecified dimension size -1 can be any value and is ambiguous",
     "output_type": "error",
     "traceback": [
      "\u001b[0;31m---------------------------------------------------------------------------\u001b[0m",
      "\u001b[0;31mRuntimeError\u001b[0m                              Traceback (most recent call last)",
      "\u001b[0;32m<ipython-input-36-8650b6bfe04d>\u001b[0m in \u001b[0;36m<module>\u001b[0;34m\u001b[0m\n\u001b[1;32m      1\u001b[0m \u001b[0mtest_image_2\u001b[0m \u001b[0;34m=\u001b[0m \u001b[0mread_image\u001b[0m\u001b[0;34m(\u001b[0m\u001b[0mstr\u001b[0m\u001b[0;34m(\u001b[0m\u001b[0mall_test_imgs\u001b[0m\u001b[0;34m[\u001b[0m\u001b[0;36m1\u001b[0m\u001b[0;34m]\u001b[0m\u001b[0;34m)\u001b[0m\u001b[0;34m)\u001b[0m\u001b[0;34m\u001b[0m\u001b[0;34m\u001b[0m\u001b[0m\n\u001b[0;32m----> 2\u001b[0;31m \u001b[0mpredicted_labels_2\u001b[0m\u001b[0;34m,\u001b[0m \u001b[0mpredicted_boxes_2\u001b[0m\u001b[0;34m,\u001b[0m \u001b[0mpredicted_confidence_2\u001b[0m \u001b[0;34m=\u001b[0m \u001b[0mmodel\u001b[0m\u001b[0;34m.\u001b[0m\u001b[0mpredict_top\u001b[0m\u001b[0;34m(\u001b[0m\u001b[0mtest_image_2\u001b[0m\u001b[0;34m)\u001b[0m\u001b[0;34m\u001b[0m\u001b[0;34m\u001b[0m\u001b[0m\n\u001b[0m\u001b[1;32m      3\u001b[0m \u001b[0mshow_labeled_image\u001b[0m\u001b[0;34m(\u001b[0m\u001b[0mtest_image_2\u001b[0m\u001b[0;34m,\u001b[0m \u001b[0mpredicted_boxes_2\u001b[0m\u001b[0;34m,\u001b[0m \u001b[0mpredicted_labels_2\u001b[0m\u001b[0;34m)\u001b[0m\u001b[0;34m\u001b[0m\u001b[0;34m\u001b[0m\u001b[0m\n",
      "\u001b[0;32m/opt/conda/lib/python3.8/site-packages/detecto/core.py\u001b[0m in \u001b[0;36mpredict_top\u001b[0;34m(self, images)\u001b[0m\n\u001b[1;32m    386\u001b[0m         \"\"\"\n\u001b[1;32m    387\u001b[0m \u001b[0;34m\u001b[0m\u001b[0m\n\u001b[0;32m--> 388\u001b[0;31m         \u001b[0mpredictions\u001b[0m \u001b[0;34m=\u001b[0m \u001b[0mself\u001b[0m\u001b[0;34m.\u001b[0m\u001b[0mpredict\u001b[0m\u001b[0;34m(\u001b[0m\u001b[0mimages\u001b[0m\u001b[0;34m)\u001b[0m\u001b[0;34m\u001b[0m\u001b[0;34m\u001b[0m\u001b[0m\n\u001b[0m\u001b[1;32m    389\u001b[0m \u001b[0;34m\u001b[0m\u001b[0m\n\u001b[1;32m    390\u001b[0m         \u001b[0;31m# If tuple but not list, then images is a single image\u001b[0m\u001b[0;34m\u001b[0m\u001b[0;34m\u001b[0m\u001b[0;34m\u001b[0m\u001b[0m\n",
      "\u001b[0;32m/opt/conda/lib/python3.8/site-packages/detecto/core.py\u001b[0m in \u001b[0;36mpredict\u001b[0;34m(self, images)\u001b[0m\n\u001b[1;32m    338\u001b[0m         \u001b[0mis_single_image\u001b[0m \u001b[0;34m=\u001b[0m \u001b[0;32mnot\u001b[0m \u001b[0m_is_iterable\u001b[0m\u001b[0;34m(\u001b[0m\u001b[0mimages\u001b[0m\u001b[0;34m)\u001b[0m\u001b[0;34m\u001b[0m\u001b[0;34m\u001b[0m\u001b[0m\n\u001b[1;32m    339\u001b[0m         \u001b[0mimages\u001b[0m \u001b[0;34m=\u001b[0m \u001b[0;34m[\u001b[0m\u001b[0mimages\u001b[0m\u001b[0;34m]\u001b[0m \u001b[0;32mif\u001b[0m \u001b[0mis_single_image\u001b[0m \u001b[0;32melse\u001b[0m \u001b[0mimages\u001b[0m\u001b[0;34m\u001b[0m\u001b[0;34m\u001b[0m\u001b[0m\n\u001b[0;32m--> 340\u001b[0;31m         \u001b[0mpreds\u001b[0m \u001b[0;34m=\u001b[0m \u001b[0mself\u001b[0m\u001b[0;34m.\u001b[0m\u001b[0m_get_raw_predictions\u001b[0m\u001b[0;34m(\u001b[0m\u001b[0mimages\u001b[0m\u001b[0;34m)\u001b[0m\u001b[0;34m\u001b[0m\u001b[0;34m\u001b[0m\u001b[0m\n\u001b[0m\u001b[1;32m    341\u001b[0m \u001b[0;34m\u001b[0m\u001b[0m\n\u001b[1;32m    342\u001b[0m         \u001b[0mresults\u001b[0m \u001b[0;34m=\u001b[0m \u001b[0;34m[\u001b[0m\u001b[0;34m]\u001b[0m\u001b[0;34m\u001b[0m\u001b[0;34m\u001b[0m\u001b[0m\n",
      "\u001b[0;32m/opt/conda/lib/python3.8/site-packages/detecto/core.py\u001b[0m in \u001b[0;36m_get_raw_predictions\u001b[0;34m(self, images)\u001b[0m\n\u001b[1;32m    294\u001b[0m             \u001b[0mimages\u001b[0m \u001b[0;34m=\u001b[0m \u001b[0;34m[\u001b[0m\u001b[0mimg\u001b[0m\u001b[0;34m.\u001b[0m\u001b[0mto\u001b[0m\u001b[0;34m(\u001b[0m\u001b[0mself\u001b[0m\u001b[0;34m.\u001b[0m\u001b[0m_device\u001b[0m\u001b[0;34m)\u001b[0m \u001b[0;32mfor\u001b[0m \u001b[0mimg\u001b[0m \u001b[0;32min\u001b[0m \u001b[0mimages\u001b[0m\u001b[0;34m]\u001b[0m\u001b[0;34m\u001b[0m\u001b[0;34m\u001b[0m\u001b[0m\n\u001b[1;32m    295\u001b[0m \u001b[0;34m\u001b[0m\u001b[0m\n\u001b[0;32m--> 296\u001b[0;31m             \u001b[0mpreds\u001b[0m \u001b[0;34m=\u001b[0m \u001b[0mself\u001b[0m\u001b[0;34m.\u001b[0m\u001b[0m_model\u001b[0m\u001b[0;34m(\u001b[0m\u001b[0mimages\u001b[0m\u001b[0;34m)\u001b[0m\u001b[0;34m\u001b[0m\u001b[0;34m\u001b[0m\u001b[0m\n\u001b[0m\u001b[1;32m    297\u001b[0m             \u001b[0;31m# Send predictions to CPU if not already\u001b[0m\u001b[0;34m\u001b[0m\u001b[0;34m\u001b[0m\u001b[0;34m\u001b[0m\u001b[0m\n\u001b[1;32m    298\u001b[0m             \u001b[0mpreds\u001b[0m \u001b[0;34m=\u001b[0m \u001b[0;34m[\u001b[0m\u001b[0;34m{\u001b[0m\u001b[0mk\u001b[0m\u001b[0;34m:\u001b[0m \u001b[0mv\u001b[0m\u001b[0;34m.\u001b[0m\u001b[0mto\u001b[0m\u001b[0;34m(\u001b[0m\u001b[0mtorch\u001b[0m\u001b[0;34m.\u001b[0m\u001b[0mdevice\u001b[0m\u001b[0;34m(\u001b[0m\u001b[0;34m'cpu'\u001b[0m\u001b[0;34m)\u001b[0m\u001b[0;34m)\u001b[0m \u001b[0;32mfor\u001b[0m \u001b[0mk\u001b[0m\u001b[0;34m,\u001b[0m \u001b[0mv\u001b[0m \u001b[0;32min\u001b[0m \u001b[0mp\u001b[0m\u001b[0;34m.\u001b[0m\u001b[0mitems\u001b[0m\u001b[0;34m(\u001b[0m\u001b[0;34m)\u001b[0m\u001b[0;34m}\u001b[0m \u001b[0;32mfor\u001b[0m \u001b[0mp\u001b[0m \u001b[0;32min\u001b[0m \u001b[0mpreds\u001b[0m\u001b[0;34m]\u001b[0m\u001b[0;34m\u001b[0m\u001b[0;34m\u001b[0m\u001b[0m\n",
      "\u001b[0;32m/opt/conda/lib/python3.8/site-packages/torch/nn/modules/module.py\u001b[0m in \u001b[0;36m_call_impl\u001b[0;34m(self, *input, **kwargs)\u001b[0m\n\u001b[1;32m    879\u001b[0m             \u001b[0mresult\u001b[0m \u001b[0;34m=\u001b[0m \u001b[0mself\u001b[0m\u001b[0;34m.\u001b[0m\u001b[0m_slow_forward\u001b[0m\u001b[0;34m(\u001b[0m\u001b[0;34m*\u001b[0m\u001b[0minput\u001b[0m\u001b[0;34m,\u001b[0m \u001b[0;34m**\u001b[0m\u001b[0mkwargs\u001b[0m\u001b[0;34m)\u001b[0m\u001b[0;34m\u001b[0m\u001b[0;34m\u001b[0m\u001b[0m\n\u001b[1;32m    880\u001b[0m         \u001b[0;32melse\u001b[0m\u001b[0;34m:\u001b[0m\u001b[0;34m\u001b[0m\u001b[0;34m\u001b[0m\u001b[0m\n\u001b[0;32m--> 881\u001b[0;31m             \u001b[0mresult\u001b[0m \u001b[0;34m=\u001b[0m \u001b[0mself\u001b[0m\u001b[0;34m.\u001b[0m\u001b[0mforward\u001b[0m\u001b[0;34m(\u001b[0m\u001b[0;34m*\u001b[0m\u001b[0minput\u001b[0m\u001b[0;34m,\u001b[0m \u001b[0;34m**\u001b[0m\u001b[0mkwargs\u001b[0m\u001b[0;34m)\u001b[0m\u001b[0;34m\u001b[0m\u001b[0;34m\u001b[0m\u001b[0m\n\u001b[0m\u001b[1;32m    882\u001b[0m         for hook in itertools.chain(\n\u001b[1;32m    883\u001b[0m                 \u001b[0m_global_forward_hooks\u001b[0m\u001b[0;34m.\u001b[0m\u001b[0mvalues\u001b[0m\u001b[0;34m(\u001b[0m\u001b[0;34m)\u001b[0m\u001b[0;34m,\u001b[0m\u001b[0;34m\u001b[0m\u001b[0;34m\u001b[0m\u001b[0m\n",
      "\u001b[0;32m/opt/conda/lib/python3.8/site-packages/torchvision/models/detection/generalized_rcnn.py\u001b[0m in \u001b[0;36mforward\u001b[0;34m(self, images, targets)\u001b[0m\n\u001b[1;32m     96\u001b[0m             \u001b[0mfeatures\u001b[0m \u001b[0;34m=\u001b[0m \u001b[0mOrderedDict\u001b[0m\u001b[0;34m(\u001b[0m\u001b[0;34m[\u001b[0m\u001b[0;34m(\u001b[0m\u001b[0;34m'0'\u001b[0m\u001b[0;34m,\u001b[0m \u001b[0mfeatures\u001b[0m\u001b[0;34m)\u001b[0m\u001b[0;34m]\u001b[0m\u001b[0;34m)\u001b[0m\u001b[0;34m\u001b[0m\u001b[0;34m\u001b[0m\u001b[0m\n\u001b[1;32m     97\u001b[0m         \u001b[0mproposals\u001b[0m\u001b[0;34m,\u001b[0m \u001b[0mproposal_losses\u001b[0m \u001b[0;34m=\u001b[0m \u001b[0mself\u001b[0m\u001b[0;34m.\u001b[0m\u001b[0mrpn\u001b[0m\u001b[0;34m(\u001b[0m\u001b[0mimages\u001b[0m\u001b[0;34m,\u001b[0m \u001b[0mfeatures\u001b[0m\u001b[0;34m,\u001b[0m \u001b[0mtargets\u001b[0m\u001b[0;34m)\u001b[0m\u001b[0;34m\u001b[0m\u001b[0;34m\u001b[0m\u001b[0m\n\u001b[0;32m---> 98\u001b[0;31m         \u001b[0mdetections\u001b[0m\u001b[0;34m,\u001b[0m \u001b[0mdetector_losses\u001b[0m \u001b[0;34m=\u001b[0m \u001b[0mself\u001b[0m\u001b[0;34m.\u001b[0m\u001b[0mroi_heads\u001b[0m\u001b[0;34m(\u001b[0m\u001b[0mfeatures\u001b[0m\u001b[0;34m,\u001b[0m \u001b[0mproposals\u001b[0m\u001b[0;34m,\u001b[0m \u001b[0mimages\u001b[0m\u001b[0;34m.\u001b[0m\u001b[0mimage_sizes\u001b[0m\u001b[0;34m,\u001b[0m \u001b[0mtargets\u001b[0m\u001b[0;34m)\u001b[0m\u001b[0;34m\u001b[0m\u001b[0;34m\u001b[0m\u001b[0m\n\u001b[0m\u001b[1;32m     99\u001b[0m         \u001b[0mdetections\u001b[0m \u001b[0;34m=\u001b[0m \u001b[0mself\u001b[0m\u001b[0;34m.\u001b[0m\u001b[0mtransform\u001b[0m\u001b[0;34m.\u001b[0m\u001b[0mpostprocess\u001b[0m\u001b[0;34m(\u001b[0m\u001b[0mdetections\u001b[0m\u001b[0;34m,\u001b[0m \u001b[0mimages\u001b[0m\u001b[0;34m.\u001b[0m\u001b[0mimage_sizes\u001b[0m\u001b[0;34m,\u001b[0m \u001b[0moriginal_image_sizes\u001b[0m\u001b[0;34m)\u001b[0m\u001b[0;34m\u001b[0m\u001b[0;34m\u001b[0m\u001b[0m\n\u001b[1;32m    100\u001b[0m \u001b[0;34m\u001b[0m\u001b[0m\n",
      "\u001b[0;32m/opt/conda/lib/python3.8/site-packages/torch/nn/modules/module.py\u001b[0m in \u001b[0;36m_call_impl\u001b[0;34m(self, *input, **kwargs)\u001b[0m\n\u001b[1;32m    879\u001b[0m             \u001b[0mresult\u001b[0m \u001b[0;34m=\u001b[0m \u001b[0mself\u001b[0m\u001b[0;34m.\u001b[0m\u001b[0m_slow_forward\u001b[0m\u001b[0;34m(\u001b[0m\u001b[0;34m*\u001b[0m\u001b[0minput\u001b[0m\u001b[0;34m,\u001b[0m \u001b[0;34m**\u001b[0m\u001b[0mkwargs\u001b[0m\u001b[0;34m)\u001b[0m\u001b[0;34m\u001b[0m\u001b[0;34m\u001b[0m\u001b[0m\n\u001b[1;32m    880\u001b[0m         \u001b[0;32melse\u001b[0m\u001b[0;34m:\u001b[0m\u001b[0;34m\u001b[0m\u001b[0;34m\u001b[0m\u001b[0m\n\u001b[0;32m--> 881\u001b[0;31m             \u001b[0mresult\u001b[0m \u001b[0;34m=\u001b[0m \u001b[0mself\u001b[0m\u001b[0;34m.\u001b[0m\u001b[0mforward\u001b[0m\u001b[0;34m(\u001b[0m\u001b[0;34m*\u001b[0m\u001b[0minput\u001b[0m\u001b[0;34m,\u001b[0m \u001b[0;34m**\u001b[0m\u001b[0mkwargs\u001b[0m\u001b[0;34m)\u001b[0m\u001b[0;34m\u001b[0m\u001b[0;34m\u001b[0m\u001b[0m\n\u001b[0m\u001b[1;32m    882\u001b[0m         for hook in itertools.chain(\n\u001b[1;32m    883\u001b[0m                 \u001b[0m_global_forward_hooks\u001b[0m\u001b[0;34m.\u001b[0m\u001b[0mvalues\u001b[0m\u001b[0;34m(\u001b[0m\u001b[0;34m)\u001b[0m\u001b[0;34m,\u001b[0m\u001b[0;34m\u001b[0m\u001b[0;34m\u001b[0m\u001b[0m\n",
      "\u001b[0;32m/opt/conda/lib/python3.8/site-packages/torchvision/models/detection/roi_heads.py\u001b[0m in \u001b[0;36mforward\u001b[0;34m(self, features, proposals, image_shapes, targets)\u001b[0m\n\u001b[1;32m    765\u001b[0m             }\n\u001b[1;32m    766\u001b[0m         \u001b[0;32melse\u001b[0m\u001b[0;34m:\u001b[0m\u001b[0;34m\u001b[0m\u001b[0;34m\u001b[0m\u001b[0m\n\u001b[0;32m--> 767\u001b[0;31m             \u001b[0mboxes\u001b[0m\u001b[0;34m,\u001b[0m \u001b[0mscores\u001b[0m\u001b[0;34m,\u001b[0m \u001b[0mlabels\u001b[0m \u001b[0;34m=\u001b[0m \u001b[0mself\u001b[0m\u001b[0;34m.\u001b[0m\u001b[0mpostprocess_detections\u001b[0m\u001b[0;34m(\u001b[0m\u001b[0mclass_logits\u001b[0m\u001b[0;34m,\u001b[0m \u001b[0mbox_regression\u001b[0m\u001b[0;34m,\u001b[0m \u001b[0mproposals\u001b[0m\u001b[0;34m,\u001b[0m \u001b[0mimage_shapes\u001b[0m\u001b[0;34m)\u001b[0m\u001b[0;34m\u001b[0m\u001b[0;34m\u001b[0m\u001b[0m\n\u001b[0m\u001b[1;32m    768\u001b[0m             \u001b[0mnum_images\u001b[0m \u001b[0;34m=\u001b[0m \u001b[0mlen\u001b[0m\u001b[0;34m(\u001b[0m\u001b[0mboxes\u001b[0m\u001b[0;34m)\u001b[0m\u001b[0;34m\u001b[0m\u001b[0;34m\u001b[0m\u001b[0m\n\u001b[1;32m    769\u001b[0m             \u001b[0;32mfor\u001b[0m \u001b[0mi\u001b[0m \u001b[0;32min\u001b[0m \u001b[0mrange\u001b[0m\u001b[0;34m(\u001b[0m\u001b[0mnum_images\u001b[0m\u001b[0;34m)\u001b[0m\u001b[0;34m:\u001b[0m\u001b[0;34m\u001b[0m\u001b[0;34m\u001b[0m\u001b[0m\n",
      "\u001b[0;32m/opt/conda/lib/python3.8/site-packages/torchvision/models/detection/roi_heads.py\u001b[0m in \u001b[0;36mpostprocess_detections\u001b[0;34m(self, class_logits, box_regression, proposals, image_shapes)\u001b[0m\n\u001b[1;32m    673\u001b[0m \u001b[0;34m\u001b[0m\u001b[0m\n\u001b[1;32m    674\u001b[0m         \u001b[0mboxes_per_image\u001b[0m \u001b[0;34m=\u001b[0m \u001b[0;34m[\u001b[0m\u001b[0mboxes_in_image\u001b[0m\u001b[0;34m.\u001b[0m\u001b[0mshape\u001b[0m\u001b[0;34m[\u001b[0m\u001b[0;36m0\u001b[0m\u001b[0;34m]\u001b[0m \u001b[0;32mfor\u001b[0m \u001b[0mboxes_in_image\u001b[0m \u001b[0;32min\u001b[0m \u001b[0mproposals\u001b[0m\u001b[0;34m]\u001b[0m\u001b[0;34m\u001b[0m\u001b[0;34m\u001b[0m\u001b[0m\n\u001b[0;32m--> 675\u001b[0;31m         \u001b[0mpred_boxes\u001b[0m \u001b[0;34m=\u001b[0m \u001b[0mself\u001b[0m\u001b[0;34m.\u001b[0m\u001b[0mbox_coder\u001b[0m\u001b[0;34m.\u001b[0m\u001b[0mdecode\u001b[0m\u001b[0;34m(\u001b[0m\u001b[0mbox_regression\u001b[0m\u001b[0;34m,\u001b[0m \u001b[0mproposals\u001b[0m\u001b[0;34m)\u001b[0m\u001b[0;34m\u001b[0m\u001b[0;34m\u001b[0m\u001b[0m\n\u001b[0m\u001b[1;32m    676\u001b[0m \u001b[0;34m\u001b[0m\u001b[0m\n\u001b[1;32m    677\u001b[0m         \u001b[0mpred_scores\u001b[0m \u001b[0;34m=\u001b[0m \u001b[0mF\u001b[0m\u001b[0;34m.\u001b[0m\u001b[0msoftmax\u001b[0m\u001b[0;34m(\u001b[0m\u001b[0mclass_logits\u001b[0m\u001b[0;34m,\u001b[0m \u001b[0;34m-\u001b[0m\u001b[0;36m1\u001b[0m\u001b[0;34m)\u001b[0m\u001b[0;34m\u001b[0m\u001b[0;34m\u001b[0m\u001b[0m\n",
      "\u001b[0;32m/opt/conda/lib/python3.8/site-packages/torchvision/models/detection/_utils.py\u001b[0m in \u001b[0;36mdecode\u001b[0;34m(self, rel_codes, boxes)\u001b[0m\n\u001b[1;32m    175\u001b[0m             \u001b[0mbox_sum\u001b[0m \u001b[0;34m+=\u001b[0m \u001b[0mval\u001b[0m\u001b[0;34m\u001b[0m\u001b[0;34m\u001b[0m\u001b[0m\n\u001b[1;32m    176\u001b[0m         pred_boxes = self.decode_single(\n\u001b[0;32m--> 177\u001b[0;31m             \u001b[0mrel_codes\u001b[0m\u001b[0;34m.\u001b[0m\u001b[0mreshape\u001b[0m\u001b[0;34m(\u001b[0m\u001b[0mbox_sum\u001b[0m\u001b[0;34m,\u001b[0m \u001b[0;34m-\u001b[0m\u001b[0;36m1\u001b[0m\u001b[0;34m)\u001b[0m\u001b[0;34m,\u001b[0m \u001b[0mconcat_boxes\u001b[0m\u001b[0;34m\u001b[0m\u001b[0;34m\u001b[0m\u001b[0m\n\u001b[0m\u001b[1;32m    178\u001b[0m         )\n\u001b[1;32m    179\u001b[0m         \u001b[0;32mreturn\u001b[0m \u001b[0mpred_boxes\u001b[0m\u001b[0;34m.\u001b[0m\u001b[0mreshape\u001b[0m\u001b[0;34m(\u001b[0m\u001b[0mbox_sum\u001b[0m\u001b[0;34m,\u001b[0m \u001b[0;34m-\u001b[0m\u001b[0;36m1\u001b[0m\u001b[0;34m,\u001b[0m \u001b[0;36m4\u001b[0m\u001b[0;34m)\u001b[0m\u001b[0;34m\u001b[0m\u001b[0;34m\u001b[0m\u001b[0m\n",
      "\u001b[0;31mRuntimeError\u001b[0m: cannot reshape tensor of 0 elements into shape [0, -1] because the unspecified dimension size -1 can be any value and is ambiguous"
     ]
    }
   ],
   "source": [
    "test_image_2 = read_image(str(all_test_imgs[1]))\n",
    "predicted_labels_2, predicted_boxes_2, predicted_confidence_2 = model.predict_top(test_image_2)\n",
    "show_labeled_image(test_image_2, predicted_boxes_2, predicted_labels_2)"
   ]
  },
  {
   "cell_type": "markdown",
   "metadata": {},
   "source": [
    "#  🤣"
   ]
  },
  {
   "cell_type": "code",
   "execution_count": null,
   "metadata": {
    "gradient": {}
   },
   "outputs": [],
   "source": [
    "model.save('./notebook_7-detecto_roboflow-trained_so_quickly_zomg_on_paperspace-thats_paperspace_dot_com-use_referral_code_OMGPONIES.pth')"
   ]
  },
  {
   "cell_type": "code",
   "execution_count": null,
   "metadata": {
    "gradient": {}
   },
   "outputs": [
    {
     "name": "stdout",
     "output_type": "stream",
     "text": [
      "total 324779\n",
      "-rw-r--r-- 1 root root      3171 Mar 25 22:59 '01 Learn the Basics.ipynb'\n",
      "-rw-r--r-- 1 root root     14196 Mar 25 22:59 '02 Quickstart Tutorial.ipynb'\n",
      "-rw-r--r-- 1 root root     17399 Mar 25 22:59 '03 Tensors.ipynb'\n",
      "-rw-r--r-- 1 root root     13251 Mar 25 22:59 '04 Datasets & DataLoaders.ipynb'\n",
      "-rw-r--r-- 1 root root      4458 Mar 25 22:59 '05 Transforms.ipynb'\n",
      "-rw-r--r-- 1 root root     12258 Mar 25 23:00 '06 Build a Model.ipynb'\n",
      "-rw-r--r-- 1 root root     13820 Mar 25 22:59 '07 Autograd.ipynb'\n",
      "-rw-r--r-- 1 root root     12132 Mar 25 22:59 '08 Optimization.ipynb'\n",
      "-rw-r--r-- 1 root root      6021 Mar 25 22:59 '09 Save & Load Model.ipynb'\n",
      "-rw-r--r-- 1 root root       880 Mar 25 23:47  README.roboflow.txt\n",
      "-rw-r--r-- 1 root root        72 Mar 25 23:00  Untitled.ipynb\n",
      "-rw-r--r-- 1 root root 165835406 Mar 25 23:14  notebook_6-detecto_roboflow-trained_so_quickly_zomg_on_paperspace-thats_paperspace_dot_com-use_referral_code_OMGPONIES.pth\n",
      "-rw-r--r-- 1 root root    416149 Mar 25 23:15  notebook_6-lets_try_detecto_again.ipynb\n",
      "-rw-r--r-- 1 root root 165855950 Mar 25 23:53  notebook_7-detecto_roboflow-trained_so_quickly_zomg_on_paperspace-thats_paperspace_dot_com-use_referral_code_OMGPONIES.pth\n",
      "-rw-r--r-- 1 root root    366014 Mar 25 23:53  notebook_7-lets_try_detecto_again-new_roboflow_dataset.ipynb\n",
      "drwxr-xr-x 2 root root         4 Mar 25 23:47  test\n",
      "drwxr-xr-x 2 root root       108 Mar 25 23:47  train\n",
      "drwxr-xr-x 2 root root         6 Mar 25 23:47  valid\n"
     ]
    }
   ],
   "source": [
    "!ls -l "
   ]
  },
  {
   "cell_type": "markdown",
   "metadata": {},
   "source": [
    "Gotta figure out how to do this sort of thing consistently...but for now, we'll stick with that."
   ]
  },
  {
   "cell_type": "markdown",
   "metadata": {},
   "source": [
    "# Next steps\n",
    "\n",
    "- ~~Load this model from the rest api~~\n",
    "  - In predict.py as MODEL_6\n",
    "- ~~Code to draw the image with bounding boxes, suitable for serving with the rest API~~\n",
    "  - Done; see `draw_bounding_boxes()` in transforms.py\n",
    "- Display that properly in results page\n",
    "  - **NOT WORKING**.  See comment in transforms.py."
   ]
  },
  {
   "cell_type": "code",
   "execution_count": null,
   "metadata": {
    "gradient": {}
   },
   "outputs": [],
   "source": [
    "# "
   ]
  }
 ],
 "metadata": {
  "kernelspec": {
   "display_name": "Python 3",
   "language": "python",
   "name": "python3"
  },
  "language_info": {
   "codemirror_mode": {
    "name": "ipython",
    "version": 3
   },
   "file_extension": ".py",
   "mimetype": "text/x-python",
   "name": "python",
   "nbconvert_exporter": "python",
   "pygments_lexer": "ipython3",
   "version": "3.8.5"
  }
 },
 "nbformat": 4,
 "nbformat_minor": 4
}
